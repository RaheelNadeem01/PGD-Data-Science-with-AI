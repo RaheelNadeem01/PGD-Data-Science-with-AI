{
  "nbformat": 4,
  "nbformat_minor": 0,
  "metadata": {
    "colab": {
      "provenance": [],
      "authorship_tag": "ABX9TyP251VdAh8kxdlxlY9u8Wjp",
      "include_colab_link": true
    },
    "kernelspec": {
      "name": "python3",
      "display_name": "Python 3"
    },
    "language_info": {
      "name": "python"
    }
  },
  "cells": [
    {
      "cell_type": "markdown",
      "metadata": {
        "id": "view-in-github",
        "colab_type": "text"
      },
      "source": [
        "<a href=\"https://colab.research.google.com/github/RaheelNadeem01/PGD-Data-Science-with-AI/blob/main/Error_Handling.ipynb\" target=\"_parent\"><img src=\"https://colab.research.google.com/assets/colab-badge.svg\" alt=\"Open In Colab\"/></a>"
      ]
    },
    {
      "cell_type": "markdown",
      "source": [
        "#Error Handling"
      ],
      "metadata": {
        "id": "yzCYn7g_Qw5s"
      }
    },
    {
      "cell_type": "markdown",
      "source": [
        "##Try and Accept"
      ],
      "metadata": {
        "id": "d18j3B74DPwG"
      }
    },
    {
      "cell_type": "markdown",
      "source": [
        "**Run Time Error**\n",
        "try :\n",
        "    logic # may be error accur\n",
        "\n",
        " here\n",
        "except (ErrorClass1, ErrorClass2):\n",
        "    action\n",
        "else:\n",
        "    run if error not accure\n",
        "finally:\n",
        "    line always run"
      ],
      "metadata": {
        "id": "UavuLW6tDWMu"
      }
    },
    {
      "cell_type": "code",
      "execution_count": 1,
      "metadata": {
        "colab": {
          "base_uri": "https://localhost:8080/"
        },
        "id": "3mjLxmbd-iLu",
        "outputId": "a386516d-0b99-4b9f-8e7c-f2f6f9391c90"
      },
      "outputs": [
        {
          "output_type": "stream",
          "name": "stdout",
          "text": [
            "line1\n",
            "line2\n",
            "Variable is not define!\n",
            "line4\n",
            "line5\n"
          ]
        }
      ],
      "source": [
        "print(\"line1\")\n",
        "print(\"line2\")\n",
        "\n",
        "try:\n",
        "    print(a)\n",
        "except:\n",
        "    print(\"Variable is not define!\")\n",
        "\n",
        "\n",
        "\n",
        "print(\"line4\")\n",
        "print(\"line5\")"
      ]
    },
    {
      "cell_type": "code",
      "source": [
        "print (\"line1\")\n",
        "print (\"line2\")\n",
        "\n",
        "num1=7\n",
        "num2=0\n",
        "\n",
        "try:\n",
        "  num1/num2\n",
        "except:\n",
        " print (\"zero cant be divisible\")\n",
        "\n",
        "print(\"line4\")"
      ],
      "metadata": {
        "colab": {
          "base_uri": "https://localhost:8080/"
        },
        "id": "ttKNcsO8Dkxc",
        "outputId": "4a98febb-44b4-407b-fe86-dd68e2f16f69"
      },
      "execution_count": 3,
      "outputs": [
        {
          "output_type": "stream",
          "name": "stdout",
          "text": [
            "line1\n",
            "line2\n",
            "zero cant be divisible\n",
            "line4\n"
          ]
        }
      ]
    },
    {
      "cell_type": "code",
      "source": [
        "print(\"line1\")\n",
        "print(\"line2\")\n",
        "\n",
        "num1 = 7\n",
        "num2 = 0\n",
        "b = 20\n",
        "l = [1,2,3,3,5,6,7]\n",
        "\n",
        "try:\n",
        "    print(b)# logic\n",
        "    print(num1 / num2)# right code logic\n",
        "    print('hello')\n",
        "    print(l[20]) # logic3\n",
        "    print(\"world\")\n",
        "except (ZeroDivisionError, NameError):\n",
        "    print(\"Something is wrong!\")\n",
        "\n",
        "\n",
        "\n",
        "print(\"line4\")\n",
        "print(\"line5\")"
      ],
      "metadata": {
        "colab": {
          "base_uri": "https://localhost:8080/"
        },
        "id": "493eGlBlHeUW",
        "outputId": "9946f468-a664-41dd-b446-70eeba2147c6"
      },
      "execution_count": 4,
      "outputs": [
        {
          "output_type": "stream",
          "name": "stdout",
          "text": [
            "line1\n",
            "line2\n",
            "20\n",
            "Something is wrong!\n",
            "line4\n",
            "line5\n"
          ]
        }
      ]
    },
    {
      "cell_type": "code",
      "source": [
        "print(\"line1\")\n",
        "print(\"line2\")\n",
        "\n",
        "num1 = 7\n",
        "num2 = 0\n",
        "b = 20\n",
        "l = [1,2,3,3,5,6,7]\n",
        "\n",
        "try:\n",
        "    print(d)# logic\n",
        "except (NameError):\n",
        "    print(\"Name Error\")\n",
        "\n",
        "\n",
        "try:\n",
        "    print(num1 / num2)# right code logic\n",
        "except (ZeroDivisionError):\n",
        "    print(\"Zerro Error\")\n",
        "\n",
        "\n",
        "print('hello')\n",
        "\n",
        "try:\n",
        "    print(l[20]) # logic3\n",
        "except (IndexError):\n",
        "    print(\"Index Erro\")\n",
        "\n",
        "\n",
        "print(\"world\")\n",
        "\n"
      ],
      "metadata": {
        "colab": {
          "base_uri": "https://localhost:8080/"
        },
        "id": "jjjW62vsI2Rn",
        "outputId": "2496369e-8227-4665-b370-aa7ce28c16a0"
      },
      "execution_count": 5,
      "outputs": [
        {
          "output_type": "stream",
          "name": "stdout",
          "text": [
            "line1\n",
            "line2\n",
            "Name Error\n",
            "Zerro Error\n",
            "hello\n",
            "Index Erro\n",
            "world\n"
          ]
        }
      ]
    },
    {
      "cell_type": "code",
      "source": [
        "print(\"line1\")\n",
        "print(\"line2\")\n",
        "\n",
        "num1 = 7\n",
        "num2 = 0\n",
        "b = 20\n",
        "l = [1,2,3,3,5,6,7]\n",
        "\n",
        "\n",
        "#jahan usko error milega us se agay nhe jaega\n",
        "#or usi ka error except se utha k print krega\n",
        "try:\n",
        "  print(d)\n",
        "  print(num1/num2)\n",
        "\n",
        "\n",
        "except(NameError): # error name\n",
        "  print(\"name eroor\")\n",
        "except(ZeroDivisionError):\n",
        "  print(\"zero error\")\n",
        "\n"
      ],
      "metadata": {
        "colab": {
          "base_uri": "https://localhost:8080/"
        },
        "id": "jQ9AhtpRJ1Zo",
        "outputId": "d2ceb661-a82f-459a-88f0-2555e3784578"
      },
      "execution_count": 10,
      "outputs": [
        {
          "output_type": "stream",
          "name": "stdout",
          "text": [
            "line1\n",
            "line2\n",
            "name eroor\n"
          ]
        }
      ]
    },
    {
      "cell_type": "code",
      "source": [
        "print(\"line1\")\n",
        "print(\"line2\")\n",
        "\n",
        "num1 = 7\n",
        "num2 = 0\n",
        "b = 20\n",
        "l = [1,2,3,3,5,6,7]\n",
        "\n",
        "try:\n",
        "    print(d)# logic\n",
        "    print(num1 / num2)# right code logic\n",
        "    print('hello')\n",
        "    print(l[20]) # logic3\n",
        "    print(\"world\")\n",
        "except (ZeroDivisionError):\n",
        "    print(\"Zerro Error\")\n",
        "except (NameError):\n",
        "    print(\"Name Error\")\n",
        "except (IndexError):\n",
        "    print(\"Index Erro\")\n",
        "\n",
        "\n",
        "\n",
        "print(\"line4\")\n",
        "print(\"line5\")"
      ],
      "metadata": {
        "colab": {
          "base_uri": "https://localhost:8080/"
        },
        "id": "5yEpBLg0KbBQ",
        "outputId": "f1ac878b-d20b-486c-c5fd-b95c7bd93025"
      },
      "execution_count": 11,
      "outputs": [
        {
          "output_type": "stream",
          "name": "stdout",
          "text": [
            "line1\n",
            "line2\n",
            "Name Error\n",
            "line4\n",
            "line5\n"
          ]
        }
      ]
    },
    {
      "cell_type": "markdown",
      "source": [
        "**Dynamically Handling**"
      ],
      "metadata": {
        "id": "PQVEzjYxOThL"
      }
    },
    {
      "cell_type": "code",
      "source": [
        "print(\"line1\")\n",
        "print(\"line2\")\n",
        "\n",
        "num1 = 7\n",
        "num2 = 0\n",
        "b = 20\n",
        "l = [1,2,3,3,5,6,7]\n",
        "\n",
        "try:\n",
        "    print(b)# logic\n",
        "    print(num1 / num2)# right code logic\n",
        "    print('hello')\n",
        "    print(l[20]) # logic3\n",
        "    print(\"world\")\n",
        "except :\n",
        "    print(\"Something is wrong!\")\n",
        "\n",
        "\n",
        "\n",
        "\n",
        "print(\"line4\")\n",
        "print(\"line5\")"
      ],
      "metadata": {
        "colab": {
          "base_uri": "https://localhost:8080/"
        },
        "id": "1JK24A3eM0PC",
        "outputId": "4c1e76eb-3d2b-43d3-edb1-656cd98b739f"
      },
      "execution_count": 12,
      "outputs": [
        {
          "output_type": "stream",
          "name": "stdout",
          "text": [
            "line1\n",
            "line2\n",
            "20\n",
            "Something is wrong!\n",
            "line4\n",
            "line5\n"
          ]
        }
      ]
    },
    {
      "cell_type": "code",
      "source": [
        "print(\"line1\")\n",
        "print(\"line2\")\n",
        "\n",
        "num1 = 7\n",
        "num2 = 2\n",
        "b = 20\n",
        "l = [1,2,3,3,5,6,7]\n",
        "\n",
        "try:\n",
        "    print(b)# logic\n",
        "    print(num1 / num2)# right code logic\n",
        "    print('hello')\n",
        "    print(l[20]) # logic3\n",
        "    print(\"world\")\n",
        "except Exception as e:\n",
        "    print(f\"Something is wrong!{e}\") # {e} will tell where is error\n",
        "\n",
        "\n",
        "\n",
        "\n",
        "print(\"line4\")\n",
        "print(\"line5\")"
      ],
      "metadata": {
        "colab": {
          "base_uri": "https://localhost:8080/"
        },
        "id": "NKtomQXOPixa",
        "outputId": "1c6d6340-d298-421d-8549-d7d045a1d708"
      },
      "execution_count": 18,
      "outputs": [
        {
          "output_type": "stream",
          "name": "stdout",
          "text": [
            "line1\n",
            "line2\n",
            "20\n",
            "3.5\n",
            "hello\n",
            "Something is wrong!list index out of range\n",
            "line4\n",
            "line5\n"
          ]
        }
      ]
    },
    {
      "cell_type": "code",
      "source": [],
      "metadata": {
        "id": "hDf9yItdPorw"
      },
      "execution_count": null,
      "outputs": []
    }
  ]
}