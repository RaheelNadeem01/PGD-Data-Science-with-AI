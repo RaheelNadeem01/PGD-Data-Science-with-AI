{
  "nbformat": 4,
  "nbformat_minor": 0,
  "metadata": {
    "colab": {
      "provenance": []
    },
    "kernelspec": {
      "name": "python3",
      "display_name": "Python 3"
    },
    "language_info": {
      "name": "python"
    }
  },
  "cells": [
    {
      "cell_type": "markdown",
      "source": [
        "#Assignment No. 2"
      ],
      "metadata": {
        "id": "e-ukZtosEA24"
      }
    },
    {
      "cell_type": "markdown",
      "source": [
        "*   Name:Raheel Nadeem\n",
        "*   Class:DS with AI\n",
        "*   Batch:NEDUET DS with AI 5th Batch\n",
        "*   ID:Raheelnadeem1992@hotmail.com / amberaheel1914@gmail.com"
      ],
      "metadata": {
        "id": "CRmEmHlFEMS7"
      }
    },
    {
      "cell_type": "markdown",
      "source": [
        "**Assignment 1: String Concatenation and Formatting**\n",
        "\n",
        "**Instructions:**\n",
        "\n",
        "1. Create a variable `name` and assign your name to it.\n",
        "2. Create a variable `age` and assign your age to it.\n",
        "3. Create a variable `country` and assign your country of residence to it.\n",
        "4. Using the `+` operator, concatenate the variables to form a sentence in the following format: \"My name is `<name>`, I am `<age>` years old, and I live in `<country>`.\"\n",
        "5. Print the concatenated sentence.\n"
      ],
      "metadata": {
        "id": "1oz63VwqHQW7"
      }
    },
    {
      "cell_type": "code",
      "execution_count": null,
      "metadata": {
        "colab": {
          "base_uri": "https://localhost:8080/"
        },
        "id": "wC1iediWD1mB",
        "outputId": "2dff1485-054a-4b8d-b8d8-054b3c0b7605"
      },
      "outputs": [
        {
          "output_type": "stream",
          "name": "stdout",
          "text": [
            "My name is Raheel Nadeem I am 29 years old and i lives in Pakistan\n",
            "My name is Raheel Nadeem \n",
            "I am 29 years old  \n",
            "and i lives in Pakistan\n"
          ]
        }
      ],
      "source": [
        "name = \"Raheel Nadeem\"\n",
        "age = \"29\"\n",
        "country = \"Pakistan\"\n",
        "data1 = \"My name is \" + name + \" I am \"+age+\" years old \" + \"and i lives in \" +country\n",
        "data2 = \"My name is \" + name + \" \\nI am \"+age+\" years old \" + \" \\nand i lives in \" +country\n",
        "\n",
        "print (data1)\n",
        "\n",
        "print (data2)"
      ]
    },
    {
      "cell_type": "markdown",
      "source": [
        "**Assignment 2: String Formatting using `.format()`**\n",
        "\n",
        "**Instructions:**\n",
        "\n",
        "1. Create a variable `item` and assign a product name to it (e.g., \"laptop\", \"book\", \"phone\").\n",
        "2. Create a variable `price` and assign a price to the item.\n",
        "3. Create a variable `quantity` and assign a quantity value.\n",
        "4. Calculate the total cost using the formula: `total_cost = price * quantity`.\n",
        "5. Using the `.format()` method, create a formatted string: \"I bought `<quantity>` `<item>`(s) at `<price>` each, for a total of $`<total_cost>`.\"\n",
        "6. Print the formatted string."
      ],
      "metadata": {
        "id": "0LTK_14gKgzH"
      }
    },
    {
      "cell_type": "code",
      "source": [
        "price_int = 100\n",
        "quantity_int = 25\n",
        "item = \"laptop\"\n",
        "price = \"100$\"\n",
        "quantity = \"25\"\n",
        "total_cost =  int(price_int * quantity_int)\n",
        "data = \"\"\"i bought {} {} at {} each for of total of $ {}\"\"\".format(quantity,item,price,total_cost)\n",
        "print (data)"
      ],
      "metadata": {
        "colab": {
          "base_uri": "https://localhost:8080/"
        },
        "id": "PA3KaIiXKmr_",
        "outputId": "5d402a51-7628-4bf1-d0fc-b61239d5c733"
      },
      "execution_count": null,
      "outputs": [
        {
          "output_type": "stream",
          "name": "stdout",
          "text": [
            "i bought 25 laptop at 100$ each for of total of $ 2500\n"
          ]
        }
      ]
    },
    {
      "cell_type": "code",
      "source": [
        "item = \"laptop\"\n",
        "price = 100\n",
        "quantity = 25\n",
        "total_cost =  int(price_int * quantity_int)\n",
        "data = \"\"\"i bought {} {} at {} each for of total of $ {}\"\"\".format(quantity,item,price,total_cost)\n",
        "print (data)"
      ],
      "metadata": {
        "colab": {
          "base_uri": "https://localhost:8080/"
        },
        "id": "TpLgn3RwXSjy",
        "outputId": "603eb00f-606a-45de-ecf8-e07448397acb"
      },
      "execution_count": null,
      "outputs": [
        {
          "output_type": "stream",
          "name": "stdout",
          "text": [
            "i bought 25 laptop at 100 each for of total of $ 2500\n"
          ]
        }
      ]
    },
    {
      "cell_type": "markdown",
      "source": [
        "**Assignment 3: String Interpolation using `f''`**\n",
        "\n",
        "**Instructions:**\n",
        "\n",
        "1. Create a variable `city` and assign the name of a city.\n",
        "2. Create a variable `temperature` and assign a temperature value in Celsius.\n",
        "3. Using `f''` string interpolation, create a string: \"The temperature in `<city>` is `<temperature>`°C.\"\n",
        "4. Print the interpolated string"
      ],
      "metadata": {
        "id": "twO1eywDPZeu"
      }
    },
    {
      "cell_type": "code",
      "source": [
        "city = \"Karachi\"\n",
        "temperature = \"30 °C\"\n",
        "data = f\"\"\"The temperature in {city} is {temperature}\"\"\"\n",
        "print (data)"
      ],
      "metadata": {
        "colab": {
          "base_uri": "https://localhost:8080/"
        },
        "id": "a_sFtxt5Qf72",
        "outputId": "484e9152-1bac-46fd-9bb3-159df7883471"
      },
      "execution_count": null,
      "outputs": [
        {
          "output_type": "stream",
          "name": "stdout",
          "text": [
            "The temperature in Karachi is 30 °C\n"
          ]
        }
      ]
    },
    {
      "cell_type": "markdown",
      "source": [
        "**Assignment 4: String Formatting using `%()`***\n",
        "\n",
        "**Instructions:**\n",
        "\n",
        "1. Create a variable `first_name` and assign your first name to it.\n",
        "2. Create a variable `last_name` and assign your last name to it.\n",
        "3. Create a variable `birth_year` and assign your birth year.\n",
        "4. Calculate your age using the formula: `age = current_year - birth_year`, where `current_year` is the current year.\n",
        "5. Using `%()` string formatting, create a string: \"My name is %(first_name)s %(last_name)s. I am %(age)d years old.\"\n",
        "6. Print the formatted string.\n"
      ],
      "metadata": {
        "id": "BHRa0f8UR7qa"
      }
    },
    {
      "cell_type": "code",
      "source": [
        "first_name = \"Raheel\"\n",
        "last_name = \"Nadeem\"\n",
        "birth_year = 1994\n",
        "current_year = 2023\n",
        "age = current_year - birth_year\n",
        "\"My name is %s %s.I am %d years old\" %(first_name,last_name,age)\n"
      ],
      "metadata": {
        "colab": {
          "base_uri": "https://localhost:8080/",
          "height": 35
        },
        "id": "ZQ7oOmKbST1l",
        "outputId": "0be5e30f-c7d4-4b80-e83c-168b24dcdc11"
      },
      "execution_count": null,
      "outputs": [
        {
          "output_type": "execute_result",
          "data": {
            "text/plain": [
              "'My name is Raheel Nadeem.I am 29 years old'"
            ],
            "application/vnd.google.colaboratory.intrinsic+json": {
              "type": "string"
            }
          },
          "metadata": {},
          "execution_count": 69
        }
      ]
    },
    {
      "cell_type": "markdown",
      "source": [
        "**Assignment 5: Combining Formatting Methods**\n",
        "\n",
        "**Instructions:**\n",
        "\n",
        "1. Create a variable `product` and assign a product name.\n",
        "2. Create a variable `discount` and assign a discount percentage.\n",
        "3. Create a variable `original_price` and assign an original price.\n",
        "4. Calculate the discounted price using the formula: `discounted_price = original_price * (1 - discount / 100)`.\n",
        "5. Using any combination of string formatting methods (`+`, `.format()`, `f''`, `%()`), create a descriptive string with the product name, original price, discount percentage, and discounted price.\n",
        "6. Print the descriptive string."
      ],
      "metadata": {
        "id": "B42H7UJlSURb"
      }
    },
    {
      "cell_type": "code",
      "source": [
        "product = \"9.5 mm Deformed steel bar\"\n",
        "discount = \"10%\"\n",
        "orignal_price = 275000\n",
        "discounted_price_calculation = orignal_price * (1-10/100)\n",
        "discount_price = discounted_price_calculation\n",
        "data = f\"\"\"Hello customers i am selling {product} at orignal factory price that is, {discounted_price_calculation}\\\n",
        "\\nthe orignal price of this product is {orignal_price} and i am selling it with 10% discount\"\"\"\n",
        "print (data)"
      ],
      "metadata": {
        "colab": {
          "base_uri": "https://localhost:8080/"
        },
        "id": "1YxBcFXXSiM-",
        "outputId": "58783b08-e809-42a7-d2ba-b5e0cab56d67"
      },
      "execution_count": null,
      "outputs": [
        {
          "output_type": "stream",
          "name": "stdout",
          "text": [
            "Hello customers i am selling 9.5 mm Deformed steel bar at orignal factory price that is, 247500.0\n",
            "the orignal price of this product is 275000 and i am selling it with 10% discount\n"
          ]
        }
      ]
    }
  ]
}