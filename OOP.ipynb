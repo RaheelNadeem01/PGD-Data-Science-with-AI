{
  "nbformat": 4,
  "nbformat_minor": 0,
  "metadata": {
    "colab": {
      "provenance": [],
      "authorship_tag": "ABX9TyNl+7Is7FJL3SEqyHzgHn7y",
      "include_colab_link": true
    },
    "kernelspec": {
      "name": "python3",
      "display_name": "Python 3"
    },
    "language_info": {
      "name": "python"
    }
  },
  "cells": [
    {
      "cell_type": "markdown",
      "metadata": {
        "id": "view-in-github",
        "colab_type": "text"
      },
      "source": [
        "<a href=\"https://colab.research.google.com/github/RaheelNadeem01/PGD-Data-Science-with-AI/blob/main/OOP.ipynb\" target=\"_parent\"><img src=\"https://colab.research.google.com/assets/colab-badge.svg\" alt=\"Open In Colab\"/></a>"
      ]
    },
    {
      "cell_type": "markdown",
      "source": [
        "#**OOP**"
      ],
      "metadata": {
        "id": "_mawdwq6-6Vi"
      }
    },
    {
      "cell_type": "code",
      "execution_count": null,
      "metadata": {
        "colab": {
          "base_uri": "https://localhost:8080/",
          "height": 141
        },
        "id": "MKi3JITK-ipn",
        "outputId": "d4312ac0-e092-48c4-9f80-4a09ffd21c3c"
      },
      "outputs": [
        {
          "output_type": "error",
          "ename": "SyntaxError",
          "evalue": "ignored",
          "traceback": [
            "\u001b[0;36m  File \u001b[0;32m\"<ipython-input-1-703daa6aa4c3>\"\u001b[0;36m, line \u001b[0;32m4\u001b[0m\n\u001b[0;31m    s1_fees_pay():pass\u001b[0m\n\u001b[0m                 ^\u001b[0m\n\u001b[0;31mSyntaxError\u001b[0m\u001b[0;31m:\u001b[0m invalid syntax\n"
          ]
        }
      ],
      "source": [
        "s1_name=\"raheel\"\n",
        "s2_name=\"tanveer\"\n",
        "\n",
        "s1_fees_pay():pass\n",
        "s2_fees_pay():pass\n"
      ]
    },
    {
      "cell_type": "markdown",
      "source": [
        "**OOPs\n",
        "4 pillar**\n",
        "\n",
        "\n",
        "*   Polymorphism\n",
        "*   inheritance\n",
        "*   abstraction\n",
        "*   encapsulation\n",
        "\n",
        "\n"
      ],
      "metadata": {
        "id": "-wqIkj8-Eusd"
      }
    },
    {
      "cell_type": "markdown",
      "source": [
        "**Methods**"
      ],
      "metadata": {
        "id": "bFiFR94ehGEe"
      }
    },
    {
      "cell_type": "code",
      "source": [
        "class Student():   #the 1st letter of class should be capital\n",
        "\n",
        "#now define the object by calling the fuction\n",
        "\n",
        "  def Student(): #in old languages they says make constructor of name class that is defined above\n",
        "    print(\"hello world\")\n",
        "\n",
        "Student()\n",
        "\n",
        "\n"
      ],
      "metadata": {
        "colab": {
          "base_uri": "https://localhost:8080/"
        },
        "id": "lPNL8UbgC-g7",
        "outputId": "b23f9239-17d4-4840-a366-1a59ff177ad9"
      },
      "execution_count": null,
      "outputs": [
        {
          "output_type": "execute_result",
          "data": {
            "text/plain": [
              "<__main__.Student at 0x799a14c63790>"
            ]
          },
          "metadata": {},
          "execution_count": 2
        }
      ]
    },
    {
      "cell_type": "markdown",
      "source": [
        "**Constructor**: Class banaty waqt jab object banaegyt to khud call hoga"
      ],
      "metadata": {
        "id": "TyT1drGCdUaA"
      }
    },
    {
      "cell_type": "code",
      "source": [
        "class Student():\n",
        "  def __init__(self):#constructor / initializer\n",
        "    print(\"hello\")\n",
        "s1=Student()   #create object / create instance\n"
      ],
      "metadata": {
        "colab": {
          "base_uri": "https://localhost:8080/"
        },
        "id": "-X3DQZU4LW-q",
        "outputId": "ce825278-b263-4b33-f7ed-d21f88d254f4"
      },
      "execution_count": null,
      "outputs": [
        {
          "output_type": "stream",
          "name": "stdout",
          "text": [
            "hello\n"
          ]
        }
      ]
    },
    {
      "cell_type": "code",
      "source": [
        "class Student():\n",
        "  def __init__(self):#constructor / initializer\n",
        "    print(\"hello\")\n",
        "  def admission(self):                          # self ki jaga kch bhi laga skty hain means ek argument dena ha\n",
        "    print(\"admission has been done\")\n",
        "  def fees(self):\n",
        "    print(\"fees has been done\")\n",
        "\n",
        "\n",
        "\n",
        "kamran=Student()\n",
        "dir(kamran)\n",
        "\n",
        "kamran.admission()\n",
        "kamran.fees()"
      ],
      "metadata": {
        "colab": {
          "base_uri": "https://localhost:8080/"
        },
        "id": "RnJkuIdyNPbx",
        "outputId": "9fa6886f-e4c7-4463-f969-dbefe7ad50ec"
      },
      "execution_count": null,
      "outputs": [
        {
          "output_type": "stream",
          "name": "stdout",
          "text": [
            "hello\n",
            "admission has been done\n",
            "fees has been done\n"
          ]
        }
      ]
    },
    {
      "cell_type": "code",
      "source": [
        " class Student():\n",
        "  def __init__(self):\n",
        "    print(\"i am a constructor\")\n",
        "\n",
        "  def examresults(self):\n",
        "    print(\"amir is pass\")\n",
        "\n",
        "  def promoted(self):\n",
        "    print(\"promoted to next class\")\n",
        "\n",
        "amir=Student()\n",
        "amir.examresults()\n",
        "amir.promoted()"
      ],
      "metadata": {
        "colab": {
          "base_uri": "https://localhost:8080/"
        },
        "id": "1SXmB9YHWrgR",
        "outputId": "25ece667-2c1a-4f76-8581-a74c92b2d8a1"
      },
      "execution_count": null,
      "outputs": [
        {
          "output_type": "stream",
          "name": "stdout",
          "text": [
            "i am a constructor\n",
            "amir is pass\n",
            "promoted to next class\n"
          ]
        }
      ]
    },
    {
      "cell_type": "code",
      "source": [
        "class Student():\n",
        "  def __init__(self):#constructor / initializer\n",
        "    print(\"i am a constructor\")\n",
        "  def admission(self):\n",
        "    print(\"admission has been done\")\n",
        "  def fees(self):\n",
        "    print(\"fees has been done\")\n",
        "\n",
        "\n",
        "\n",
        "kamran=Student()\n",
        "dir(kamran)\n",
        "\n",
        "kamran.admission()\n",
        "kamran.fees()\n",
        "\n",
        "amir=Student()\n",
        "amir.admission()"
      ],
      "metadata": {
        "colab": {
          "base_uri": "https://localhost:8080/"
        },
        "id": "7UgY9z8nZMAR",
        "outputId": "96119923-4f4f-4d3c-fa87-3ec9989e8fa3"
      },
      "execution_count": null,
      "outputs": [
        {
          "output_type": "stream",
          "name": "stdout",
          "text": [
            "i am a constructor\n",
            "admission has been done\n",
            "fees has been done\n",
            "i am a constructor\n",
            "admission has been done\n"
          ]
        }
      ]
    },
    {
      "cell_type": "markdown",
      "source": [
        "**ATTRIBUTES**"
      ],
      "metadata": {
        "id": "qVkvBi_Wh4h1"
      }
    },
    {
      "cell_type": "code",
      "source": [
        "class Student():\n",
        "  def __init__(self,sname,rollno):\n",
        "\n",
        "    self.name=None  #attributes\n",
        "    self.father_name=None #attributes\n",
        "    self.roll_no=None #attributes\n",
        "    self.age=None #attributes\n",
        "\n",
        "  def admission(self):\n",
        "    print(\"admission completed\")\n",
        "\n",
        "  def student_details(self):\n",
        "    data='''\n",
        "    student name:{self.name}\n",
        "    student father name:{father_name}\n",
        "    student roll no:{{self.roll_no}}\n",
        "    student age: {self.age}'''\n",
        "    print(data)\n",
        "\n",
        "\n",
        "s1=Student(\"kamran\",1)\n",
        "s1.student_details()\n",
        "\n",
        "s2=Student(\"Amir\",2)\n",
        "s2.student_details()"
      ],
      "metadata": {
        "colab": {
          "base_uri": "https://localhost:8080/"
        },
        "id": "l-IAEKoxZ5Ae",
        "outputId": "fa2079cd-6766-42a1-da8b-b6c709f18ba1"
      },
      "execution_count": null,
      "outputs": [
        {
          "output_type": "stream",
          "name": "stdout",
          "text": [
            "\n",
            "    student name:{self.name}\n",
            "    student father name:{father_name}\n",
            "    student roll no:{{self.roll_no}}\n",
            "    student age: {self.age}\n",
            "\n",
            "    student name:{self.name}\n",
            "    student father name:{father_name}\n",
            "    student roll no:{{self.roll_no}}\n",
            "    student age: {self.age}\n"
          ]
        }
      ]
    },
    {
      "cell_type": "markdown",
      "source": [
        "**Pass argument during creating an object**"
      ],
      "metadata": {
        "id": "BF8CwOVC1AGd"
      }
    },
    {
      "cell_type": "code",
      "source": [
        "class Students():\n",
        "  def __init__(self,sname,rollno):\n",
        "    self.name=sname  #attributes\n",
        "    self.father_name=None #attributes\n",
        "    self.roll_no=rollno #attributes\n",
        "    self.age=None #attributes\n",
        "\n",
        "  def admission(self):\n",
        "    print(\"admission completed\")\n",
        "\n",
        "  def student_details(self):\n",
        "    data= f\"\"\"student name:{self.name}\n",
        "    student father name:{self.father_name}\n",
        "    student roll no:{self.roll_no}\n",
        "    student age: {self.age}\"\"\"\n",
        "\n",
        "    print(data)\n",
        "\n",
        "\n",
        "s1=Students(\"kamran\",1)\n",
        "s1.admission()\n",
        "s1.student_details()\n",
        "\n",
        "s2=Students(\"Amir\",2)\n",
        "s2.student_details()"
      ],
      "metadata": {
        "colab": {
          "base_uri": "https://localhost:8080/"
        },
        "id": "ToV2C0JInOZz",
        "outputId": "9b26293a-4ff4-49fe-e8cd-a96b2fed74aa"
      },
      "execution_count": 4,
      "outputs": [
        {
          "output_type": "stream",
          "name": "stdout",
          "text": [
            "admission completed\n",
            "student name:kamran\n",
            "    student father name:None\n",
            "    student roll no:1\n",
            "    student age: None\n",
            "student name:Amir\n",
            "    student father name:None\n",
            "    student roll no:2\n",
            "    student age: None\n"
          ]
        }
      ]
    },
    {
      "cell_type": "markdown",
      "source": [
        "**Inheritance**"
      ],
      "metadata": {
        "id": "vnBu0uIUAoZg"
      }
    },
    {
      "cell_type": "code",
      "source": [
        "class Father():\n",
        "  def __init__(self):\n",
        "    self.hair_color=\"brown\"\n",
        "    self.eye_color=\"black\"\n",
        "\n",
        "class Mother():\n",
        "  def __init__(self):\n",
        "    self.height=\"5.5\"\n",
        "    self.skin_color=\"white\"\n",
        "\n",
        "class Children(Father):      # kisi bhi class me round bracket mein jo bhi class lihein gay wo uski parent class hogi\n",
        "  pass\n",
        "\n",
        "\n",
        "c1=Children()\n",
        "print(c1.hair_color)\n",
        "print(c1.eye_color)\n"
      ],
      "metadata": {
        "id": "2tpiDy581OIJ",
        "colab": {
          "base_uri": "https://localhost:8080/"
        },
        "outputId": "4c092649-2f77-4e61-d5fb-335f7e2361c3"
      },
      "execution_count": 2,
      "outputs": [
        {
          "output_type": "stream",
          "name": "stdout",
          "text": [
            "brown\n",
            "black\n"
          ]
        }
      ]
    },
    {
      "cell_type": "code",
      "source": [
        "class Father():\n",
        "  def __init__(self):\n",
        "    self.hair_color=\"brown\"\n",
        "    self.eye_color=\"black\"\n",
        "\n",
        "class Mother():\n",
        "  def __init__(self):\n",
        "    self.height=\"5.5\"\n",
        "    self.skin_color=\"white\"\n",
        "\n",
        "class Children(Father,Mother):\n",
        "  pass\n",
        "\n",
        "\n",
        "c1=Children()\n",
        "print(c1.hair_color)\n",
        "print(c1.eye_color)\n",
        "print(c1.height)\n",
        "print(c1.skin_color)"
      ],
      "metadata": {
        "colab": {
          "base_uri": "https://localhost:8080/",
          "height": 274
        },
        "id": "6CYcV64eNhfi",
        "outputId": "5ebef2c0-d82e-4288-e9a8-380928cc5bf6"
      },
      "execution_count": 3,
      "outputs": [
        {
          "output_type": "stream",
          "name": "stdout",
          "text": [
            "brown\n",
            "black\n"
          ]
        },
        {
          "output_type": "error",
          "ename": "AttributeError",
          "evalue": "ignored",
          "traceback": [
            "\u001b[0;31m---------------------------------------------------------------------------\u001b[0m",
            "\u001b[0;31mAttributeError\u001b[0m                            Traceback (most recent call last)",
            "\u001b[0;32m<ipython-input-3-b3ae4d1d9d55>\u001b[0m in \u001b[0;36m<cell line: 18>\u001b[0;34m()\u001b[0m\n\u001b[1;32m     16\u001b[0m \u001b[0mprint\u001b[0m\u001b[0;34m(\u001b[0m\u001b[0mc1\u001b[0m\u001b[0;34m.\u001b[0m\u001b[0mhair_color\u001b[0m\u001b[0;34m)\u001b[0m\u001b[0;34m\u001b[0m\u001b[0;34m\u001b[0m\u001b[0m\n\u001b[1;32m     17\u001b[0m \u001b[0mprint\u001b[0m\u001b[0;34m(\u001b[0m\u001b[0mc1\u001b[0m\u001b[0;34m.\u001b[0m\u001b[0meye_color\u001b[0m\u001b[0;34m)\u001b[0m\u001b[0;34m\u001b[0m\u001b[0;34m\u001b[0m\u001b[0m\n\u001b[0;32m---> 18\u001b[0;31m \u001b[0mprint\u001b[0m\u001b[0;34m(\u001b[0m\u001b[0mc1\u001b[0m\u001b[0;34m.\u001b[0m\u001b[0mheight\u001b[0m\u001b[0;34m)\u001b[0m\u001b[0;34m\u001b[0m\u001b[0;34m\u001b[0m\u001b[0m\n\u001b[0m\u001b[1;32m     19\u001b[0m \u001b[0mprint\u001b[0m\u001b[0;34m(\u001b[0m\u001b[0mc1\u001b[0m\u001b[0;34m.\u001b[0m\u001b[0mskin_color\u001b[0m\u001b[0;34m)\u001b[0m\u001b[0;34m\u001b[0m\u001b[0;34m\u001b[0m\u001b[0m\n",
            "\u001b[0;31mAttributeError\u001b[0m: 'Children' object has no attribute 'height'"
          ]
        }
      ]
    },
    {
      "cell_type": "code",
      "source": [],
      "metadata": {
        "id": "TDBcDAj4OOQM"
      },
      "execution_count": null,
      "outputs": []
    }
  ]
}