{
  "nbformat": 4,
  "nbformat_minor": 0,
  "metadata": {
    "colab": {
      "provenance": [],
      "authorship_tag": "ABX9TyN2IMVQTwQ34ZpW/NxWpoGs",
      "include_colab_link": true
    },
    "kernelspec": {
      "name": "python3",
      "display_name": "Python 3"
    },
    "language_info": {
      "name": "python"
    }
  },
  "cells": [
    {
      "cell_type": "markdown",
      "metadata": {
        "id": "view-in-github",
        "colab_type": "text"
      },
      "source": [
        "<a href=\"https://colab.research.google.com/github/RaheelNadeem01/PGD-Data-Science-with-AI/blob/main/Assignment_3_(Python_List_Assignment)_.ipynb\" target=\"_parent\"><img src=\"https://colab.research.google.com/assets/colab-badge.svg\" alt=\"Open In Colab\"/></a>"
      ]
    },
    {
      "cell_type": "markdown",
      "source": [
        "# Topic: Python Data Structure **Lists**\n",
        "#**Assignment: 3**\n",
        "Name: Raheel Nadeem (Data Science & AI student,NEDUET)\n",
        "\n"
      ],
      "metadata": {
        "id": "znSLeyexG2Td"
      }
    },
    {
      "cell_type": "markdown",
      "source": [
        "**Question 1: Basic List Operations**\n",
        "\n",
        "a) Create a list named `fruits` containing the following items: \"apple\", \"banana\", \"orange\", \"grape\", \"kiwi\".\n",
        "\n",
        "b) Add \"pear\" to the end of the list.\n",
        "\n",
        "c) Insert \"mango\" at the second position in the list.\n",
        "\n",
        "d) Remove \"orange\" from the list.\n"
      ],
      "metadata": {
        "id": "gskE_TpLzBx0"
      }
    },
    {
      "cell_type": "code",
      "execution_count": null,
      "metadata": {
        "colab": {
          "base_uri": "https://localhost:8080/"
        },
        "id": "32PfQUzvxzR_",
        "outputId": "f5c6d4f9-bf42-42cf-c4b9-072f3f250c5f"
      },
      "outputs": [
        {
          "output_type": "stream",
          "name": "stdout",
          "text": [
            "['apple', 'banana', 'orange', 'grape', 'kiwi']\n",
            "['apple', 'banana', 'orange', 'grape', 'kiwi', 'pear']\n",
            "['apple', 'mango', 'banana', 'orange', 'grape', 'kiwi', 'pear']\n",
            "['apple', 'mango', 'banana', 'grape', 'kiwi', 'pear']\n"
          ]
        }
      ],
      "source": [
        "#a\n",
        "fruits=[\"apple\", \"banana\", \"orange\", \"grape\", \"kiwi\"]\n",
        "print(fruits)\n",
        "\n",
        "#b\n",
        "fruits=[\"apple\", \"banana\", \"orange\", \"grape\", \"kiwi\"]\n",
        "fruits.append(\"pear\")\n",
        "print(fruits)\n",
        "\n",
        "#c\n",
        "fruits.insert(1,\"mango\")\n",
        "print(fruits)\n",
        "\n",
        "#d\n",
        "fruits.remove(\"orange\")\n",
        "print(fruits)\n",
        "\n"
      ]
    },
    {
      "cell_type": "markdown",
      "source": [
        "**Question 2: Slicing and Indexing**\n",
        "\n",
        "a) Create a list named `numbers` containing the integers from 0 to 9.\n",
        "\n",
        "b) Print the element at index 3.\n",
        "\n",
        "c) Print a sublist containing the elements from index 2 to 6 (inclusive).\n",
        "\n",
        "d) Print the last three elements using negative indexing.\n"
      ],
      "metadata": {
        "id": "OnLYqr_O3CnF"
      }
    },
    {
      "cell_type": "code",
      "source": [
        "#a\n",
        "numbers=list(range(0,10))\n",
        "print(numbers)\n",
        "\n",
        "#b\n",
        "print(numbers[2])\n",
        "\n",
        "#c\n",
        "print(numbers[2:7])\n",
        "\n",
        "#d\n",
        "print(numbers[-1:-4:-1])\n",
        "\n",
        "\n",
        "\n"
      ],
      "metadata": {
        "colab": {
          "base_uri": "https://localhost:8080/"
        },
        "id": "fu5kmlf-3ud-",
        "outputId": "e9bfd69a-90c7-4602-e40a-44445866323d"
      },
      "execution_count": null,
      "outputs": [
        {
          "output_type": "stream",
          "name": "stdout",
          "text": [
            "[0, 1, 2, 3, 4, 5, 6, 7, 8, 9]\n",
            "2\n",
            "[2, 3, 4, 5, 6]\n",
            "[9, 8, 7]\n"
          ]
        }
      ]
    },
    {
      "cell_type": "markdown",
      "source": [
        "**Question 3: List Comprehension**\n",
        "\n",
        "a) Create a list named `squares` using a list comprehension that contains the squares of numbers from 1 to 10.\n",
        "\n",
        "b) Create a new list named `even_squares` using a list comprehension that contains the squares of even numbers from the `squares` list.\n"
      ],
      "metadata": {
        "id": "TMcK3N0zCB6P"
      }
    },
    {
      "cell_type": "code",
      "source": [
        "#a\n",
        "squares = [i ** 2 for i in range(1,11)]\n",
        "print(squares)\n",
        "\n",
        "\n",
        "#b\n",
        "even_squares = [i ** 2 for i in squares if i % 2 == 0]\n",
        "print(even_squares)"
      ],
      "metadata": {
        "colab": {
          "base_uri": "https://localhost:8080/"
        },
        "id": "NUI9mC-LB_uJ",
        "outputId": "2d53cc23-3b7d-4442-88f6-53f88434df46"
      },
      "execution_count": null,
      "outputs": [
        {
          "output_type": "stream",
          "name": "stdout",
          "text": [
            "[1, 4, 9, 16, 25, 36, 49, 64, 81, 100]\n",
            "[16, 256, 1296, 4096, 10000]\n"
          ]
        }
      ]
    },
    {
      "cell_type": "markdown",
      "source": [
        "**Question 4: List Manipulation**\n",
        "\n",
        "a) Create a list named `colors` containing the following items: \"red\", \"green\", \"blue\", \"yellow\", \"purple\".\n",
        "\n",
        "b) Swap the first and last elements of the list.\n",
        "\n",
        "c) Reverse the order of the list.\n",
        "\n",
        "d) Remove the second and third elements from the list\n"
      ],
      "metadata": {
        "id": "ehZXgGRSWzTV"
      }
    },
    {
      "cell_type": "code",
      "source": [
        "#a\n",
        "colors=[\"red\", \"green\", \"blue\", \"yellow\", \"purple\"]\n",
        "\n",
        "#b\n",
        "colors[0],colors[-1]=colors[-1],colors[-0]\n",
        "print(colors)\n",
        "\n",
        "#c\n",
        "colors.reverse()\n",
        "print(colors)\n",
        "\n",
        "#d\n",
        "del colors[1:3]\n",
        "print(colors)\n"
      ],
      "metadata": {
        "id": "BXjbQmODEGRZ",
        "colab": {
          "base_uri": "https://localhost:8080/"
        },
        "outputId": "1109e694-27e7-438f-9ec5-78c850fe230b"
      },
      "execution_count": null,
      "outputs": [
        {
          "output_type": "stream",
          "name": "stdout",
          "text": [
            "['purple', 'green', 'blue', 'yellow', 'red']\n",
            "['red', 'yellow', 'blue', 'green', 'purple']\n",
            "['red', 'green', 'purple']\n"
          ]
        }
      ]
    },
    {
      "cell_type": "markdown",
      "source": [
        "**Question 5: Advanced Slicing**\n",
        "\n",
        "a) Create a list named `letters` containing the letters from 'a' to 'j'.\n",
        "\n",
        "b) Using slicing, create a new list `first_half` containing the first half of the `letters` list.\n",
        "\n",
        "c) Using slicing, create a new list `last_three` containing the last three elements of the `letters` list\n"
      ],
      "metadata": {
        "id": "bO_VyviQB0gR"
      }
    },
    {
      "cell_type": "code",
      "source": [
        "#a\n",
        "\n",
        "letters=[\"a\",\"b\",\"c\",\"d\",\"e\",\"f\",\"g\",\"h\",\"i\",\"j\"]\n",
        "print(letters)\n",
        "\n",
        "\n",
        "#b\n",
        "first_half=letters[0:5]\n",
        "print(first_half)\n",
        "\n",
        "#or\n",
        "first_half=letters[:len(letters)//2]\n",
        "print(first_half)\n",
        "\n",
        "\n",
        "#c\n",
        "last_three=letters[-1:-3:-1]\n",
        "print(last_three)\n",
        "\n",
        "\n",
        "\n"
      ],
      "metadata": {
        "colab": {
          "base_uri": "https://localhost:8080/"
        },
        "id": "YdejzKHtCZo_",
        "outputId": "9652c37e-b13d-4817-e409-c4f77d02d261"
      },
      "execution_count": null,
      "outputs": [
        {
          "output_type": "stream",
          "name": "stdout",
          "text": [
            "['a', 'b', 'c', 'd', 'e', 'f', 'g', 'h', 'i', 'j']\n",
            "['a', 'b', 'c', 'd', 'e']\n",
            "['a', 'b', 'c', 'd', 'e']\n",
            "['j', 'i']\n"
          ]
        }
      ]
    },
    {
      "cell_type": "markdown",
      "source": [
        "**Question 6: Nested Lists**\n",
        "\n",
        "a) Create a nested list named `matrix` with the following rows:\n",
        "   - [1, 2, 3]\n",
        "   - [4, 5, 6]\n",
        "   - [7, 8, 9]\n",
        "\n",
        "b) Print the element in the second row and third column.\n",
        "\n",
        "c) Use nested indexing to change the value at the second row and first column to 0\n"
      ],
      "metadata": {
        "id": "p3fSErKeGwcA"
      }
    },
    {
      "cell_type": "code",
      "source": [
        "#a\n",
        "matrix=[\n",
        "    [1, 2, 3],\n",
        "        [4, 5, 6],\n",
        "        [7, 8, 9]\n",
        "        ]\n",
        "print(matrix)\n",
        "\n",
        "#b\n",
        "x=matrix[1][2]\n",
        "print(x)\n",
        "\n",
        "#c\n",
        "matrix[1][0]=0\n",
        "for i in matrix:\n",
        "  print(i)"
      ],
      "metadata": {
        "colab": {
          "base_uri": "https://localhost:8080/"
        },
        "id": "Dy82ktKAGzye",
        "outputId": "0226452c-1745-4e7d-ac33-cac8d118a403"
      },
      "execution_count": null,
      "outputs": [
        {
          "output_type": "stream",
          "name": "stdout",
          "text": [
            "[[1, 2, 3], [4, 5, 6], [7, 8, 9]]\n",
            "6\n",
            "[1, 2, 3]\n",
            "[0, 5, 6]\n",
            "[7, 8, 9]\n"
          ]
        }
      ]
    }
  ]
}