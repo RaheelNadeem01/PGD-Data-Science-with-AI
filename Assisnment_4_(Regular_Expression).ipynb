{
  "nbformat": 4,
  "nbformat_minor": 0,
  "metadata": {
    "colab": {
      "provenance": [],
      "authorship_tag": "ABX9TyNwKJgGj3sKIl5E594V9w4L",
      "include_colab_link": true
    },
    "kernelspec": {
      "name": "python3",
      "display_name": "Python 3"
    },
    "language_info": {
      "name": "python"
    }
  },
  "cells": [
    {
      "cell_type": "markdown",
      "metadata": {
        "id": "view-in-github",
        "colab_type": "text"
      },
      "source": [
        "<a href=\"https://colab.research.google.com/github/RaheelNadeem01/PGD-Data-Science-with-AI/blob/main/Assisnment_4_(Regular_Expression).ipynb\" target=\"_parent\"><img src=\"https://colab.research.google.com/assets/colab-badge.svg\" alt=\"Open In Colab\"/></a>"
      ]
    },
    {
      "cell_type": "markdown",
      "source": [
        "# Topic: Regular Expression **RegEx**\n",
        "#**Assignment: 3**\n",
        "Name: Raheel Nadeem (Data Science & AI student,NEDUET)"
      ],
      "metadata": {
        "id": "9YWqSUEAJ7Y7"
      }
    },
    {
      "cell_type": "markdown",
      "source": [
        "."
      ],
      "metadata": {
        "id": "9rgjoLS6vMHh"
      }
    },
    {
      "cell_type": "markdown",
      "source": [
        "Assignment 1: Extracting Phone Numbers\n",
        "Raw Text: Extract all valid Pakistani phone numbers from a given text.\n",
        "Text: Please contact me at 0301-1234567 or 042-35678901 for further details"
      ],
      "metadata": {
        "id": "kf-JS_B4KPX4"
      }
    },
    {
      "cell_type": "code",
      "source": [
        "import re\n",
        "text=\"Please contact me at 0301-1234567 or 042-35678901 for further details\"\n",
        "match=re.findall(r\"\\d+[-]\\d+\",text)\n",
        "match"
      ],
      "metadata": {
        "colab": {
          "base_uri": "https://localhost:8080/"
        },
        "id": "OgzuIhZk0BWB",
        "outputId": "0ad795a0-ad17-47f1-f4cb-2e0c000d54ff"
      },
      "execution_count": null,
      "outputs": [
        {
          "output_type": "execute_result",
          "data": {
            "text/plain": [
              "['0301-1234567', '042-35678901']"
            ]
          },
          "metadata": {},
          "execution_count": 10
        }
      ]
    },
    {
      "cell_type": "markdown",
      "source": [
        "Assignment 2: Validating Email Addresses\n",
        "\n",
        "Raw Text:\n",
        "Validate email addresses according to Pakistani domain extensions (.pk)\n",
        "\n",
        "Text: Contact us at info@example.com or support@domain.pk for assistance"
      ],
      "metadata": {
        "id": "L6SWTtyI2DXK"
      }
    },
    {
      "cell_type": "code",
      "source": [
        "import re\n",
        "text=\"Contact us at info@example.com or support@domain.pk for assistance\"\n",
        "\n",
        "match=re.findall(\"[\\w]{0,20}@[\\w.]{0,20}\",text)\n",
        "match"
      ],
      "metadata": {
        "colab": {
          "base_uri": "https://localhost:8080/"
        },
        "id": "J8CqkkYY1EZF",
        "outputId": "f0b13a6a-c1f8-47a4-fb0f-ab604af773fd"
      },
      "execution_count": null,
      "outputs": [
        {
          "output_type": "execute_result",
          "data": {
            "text/plain": [
              "['info@example.com', 'support@domain.pk']"
            ]
          },
          "metadata": {},
          "execution_count": 54
        }
      ]
    },
    {
      "cell_type": "markdown",
      "source": [
        "Assignment 3: Extracting CNIC Numbers\n",
        "Raw Text: Extract all Pakistani CNIC (Computerized National Identity Card) numbers from a given text.\n",
        "Text: My CNIC is 12345-6789012-3 and another one is 34567-8901234-5."
      ],
      "metadata": {
        "id": "Pr4NqSSP3OUG"
      }
    },
    {
      "cell_type": "code",
      "source": [
        "import re\n",
        "a = \"My CNIC is 12345-6789012-3 and another one is 34567-8901234-5\"\n",
        "\n",
        "b=re.findall(r\"\\d+[-]\\d+[-]\\d\",a)\n",
        "b"
      ],
      "metadata": {
        "colab": {
          "base_uri": "https://localhost:8080/"
        },
        "id": "9PgIrQAI3R_O",
        "outputId": "636bcbae-7fc4-44c6-f596-47a601d34f04"
      },
      "execution_count": null,
      "outputs": [
        {
          "output_type": "execute_result",
          "data": {
            "text/plain": [
              "['12345-6789012-3', '34567-8901234-5']"
            ]
          },
          "metadata": {},
          "execution_count": 20
        }
      ]
    },
    {
      "cell_type": "markdown",
      "source": [
        "Assignment 4: Finding Dates\n",
        "\n",
        "**Raw Text:**\n",
        "Find and extract dates in the format DD-MM-YYYY from a given text.\n",
        "Text: The event will take place on 15-08-2023 and 23-09-2023."
      ],
      "metadata": {
        "id": "7K7qecbHMOTB"
      }
    },
    {
      "cell_type": "code",
      "source": [
        "import re\n",
        "\n",
        "text=\"The event will take place on 15-08-2023 and 23-09-2023\"\n",
        "\n",
        "match=re.findall(r\"\\d{1,2}-\\d{1,2}-\\d{2,4}\",text)\n",
        "match"
      ],
      "metadata": {
        "colab": {
          "base_uri": "https://localhost:8080/"
        },
        "id": "3C0jjAmo488g",
        "outputId": "1f1f90c1-09a9-4e64-ba9e-27657eeea90e"
      },
      "execution_count": null,
      "outputs": [
        {
          "output_type": "execute_result",
          "data": {
            "text/plain": [
              "['15-08-2023', '23-09-2023']"
            ]
          },
          "metadata": {},
          "execution_count": 62
        }
      ]
    },
    {
      "cell_type": "markdown",
      "source": [
        "Assignment 5: Extracting City Names\n",
        "\n",
        "**Raw Text:**\n",
        "Extract names of Pakistani cities from a given text.\n",
        "Text: Lahore, Karachi, Islamabad, and Peshawar are major cities of Pakistan."
      ],
      "metadata": {
        "id": "7SKOxurkNRqn"
      }
    },
    {
      "cell_type": "code",
      "source": [
        "import re\n",
        "\n",
        "text=\"Lahore, Karachi, Islamabad, and Peshawar are major cities of Pakistan\"\n",
        "\n",
        "match = re.findall(r\"[A-Z][a-z]*\",text)\n",
        "match\n"
      ],
      "metadata": {
        "colab": {
          "base_uri": "https://localhost:8080/"
        },
        "id": "YM6z4xDzMm4-",
        "outputId": "2cae7a4d-6346-48d1-cfca-8a7b1561ac9f"
      },
      "execution_count": null,
      "outputs": [
        {
          "output_type": "execute_result",
          "data": {
            "text/plain": [
              "['Lahore', 'Karachi', 'Islamabad', 'Peshawar', 'Pakistan']"
            ]
          },
          "metadata": {},
          "execution_count": 65
        }
      ]
    },
    {
      "cell_type": "markdown",
      "source": [
        "Assignment 6: Extracting URLs\n",
        "\n",
        "Raw Text:\n",
        "Extract all URLs from a text that belong to Pakistani domains.\n",
        "\n",
        "Example:\n",
        "\n",
        "Text: Visit http://www.example.pk or https://website.com.pk for more information"
      ],
      "metadata": {
        "id": "CP4Uj2cbO4Tz"
      }
    },
    {
      "cell_type": "code",
      "source": [
        "Text=\"Visit http://www.example.pk or https://website.com.pk for more information\"\n",
        "\n",
        "match=re.findall(r\"\\bh+[^\\s]+\",Text)\n",
        "match\n"
      ],
      "metadata": {
        "colab": {
          "base_uri": "https://localhost:8080/"
        },
        "id": "uSI3vBG_OHMV",
        "outputId": "8b833759-f87e-4353-da72-1048382fddc6"
      },
      "execution_count": null,
      "outputs": [
        {
          "output_type": "execute_result",
          "data": {
            "text/plain": [
              "['http://www.example.pk', 'https://website.com.pk']"
            ]
          },
          "metadata": {},
          "execution_count": 90
        }
      ]
    },
    {
      "cell_type": "markdown",
      "source": [
        "Assignment 7: Analyzing Vehicle Numbers\n",
        "\n",
        "**Raw Text:**\n",
        "Identify and extract Pakistani vehicle registration numbers (e.g., ABC-123) from a text.\n",
        "Text: I saw a car with the number plate LEA-567 near the market.\n"
      ],
      "metadata": {
        "id": "HD1BWcWLE0gG"
      }
    },
    {
      "cell_type": "code",
      "source": [
        "import re\n",
        "\n",
        "text=\"I saw a car with the number plate LEA-567 near the market\"\n",
        "\n",
        "match=re.findall(r\"\\bLEA+[-]\\d+\",text)\n",
        "match"
      ],
      "metadata": {
        "id": "hbUg73ssQBym",
        "colab": {
          "base_uri": "https://localhost:8080/"
        },
        "outputId": "817f5a56-9e43-411e-9993-c31bfe272046"
      },
      "execution_count": null,
      "outputs": [
        {
          "output_type": "execute_result",
          "data": {
            "text/plain": [
              "['LEA-567']"
            ]
          },
          "metadata": {},
          "execution_count": 21
        }
      ]
    },
    {
      "cell_type": "markdown",
      "source": [
        "Assignment 8: Identifying Urdu Words\n",
        "\n",
        "**Raw Text:**\n",
        "Identify and extract Urdu words from a mixed English-Urdu text.\n",
        "Text: یہ sentence میں کچھ English words بھی ہیں۔"
      ],
      "metadata": {
        "id": "ABNdN7FEJ2U1"
      }
    },
    {
      "cell_type": "code",
      "source": [
        "import re\n",
        "text='یہ sentence میں کچھ English words بھی ہیں۔'\n",
        "\n",
        "match = re.findall(r'[\\u0600-\\u06FF]+',text)\n",
        "\n",
        "match\n"
      ],
      "metadata": {
        "colab": {
          "base_uri": "https://localhost:8080/"
        },
        "id": "Zdf8XKe5GMRT",
        "outputId": "9f118d4b-76c7-4470-ab2a-2128040c5a81"
      },
      "execution_count": null,
      "outputs": [
        {
          "output_type": "execute_result",
          "data": {
            "text/plain": [
              "['یہ', 'میں', 'کچھ', 'بھی', 'ہیں۔']"
            ]
          },
          "metadata": {},
          "execution_count": 27
        }
      ]
    },
    {
      "cell_type": "markdown",
      "source": [
        "Assignment 9: Removing Punctuation\n",
        "\n",
        "**Raw Text:**\n",
        "Remove all punctuation marks from a text while preserving Urdu characters.\n",
        "Text: کیا! آپ, یہاں؟"
      ],
      "metadata": {
        "id": "zkK9wrWdMh4t"
      }
    },
    {
      "cell_type": "code",
      "source": [
        "import re\n",
        "Text=\"کیا! آپ, یہاں؟\"\n",
        "pattern=re.findall(r\"\\w+\",Text)\n",
        "pattern\n",
        "\n",
        "\n",
        "#chat gpt code\n",
        "#text = \"کیا! آپ, یہاں؟\"\n",
        "#cleaned_text = re.sub(r'[^\\w\\sآ-ی]+', '', text)\n",
        "\n",
        "#print(cleaned_text)\n"
      ],
      "metadata": {
        "colab": {
          "base_uri": "https://localhost:8080/"
        },
        "id": "NOLNrIX-KdOw",
        "outputId": "c4b3814c-0e1f-46bc-b454-45387e50b3d9"
      },
      "execution_count": null,
      "outputs": [
        {
          "output_type": "execute_result",
          "data": {
            "text/plain": [
              "['کیا', 'آپ', 'یہاں']"
            ]
          },
          "metadata": {},
          "execution_count": 47
        }
      ]
    },
    {
      "cell_type": "markdown",
      "source": [
        "Assignment 10: Analyzing Currency\n",
        "\n",
        "**Raw Text:**\n",
        "Extract and analyze currency amounts in Pakistani Rupees (PKR) from a given text.\n",
        "\n",
        "Text: The product costs PKR 1500, while the deluxe version is priced at Rs. 2500."
      ],
      "metadata": {
        "id": "8JS1Ip2cRCi9"
      }
    },
    {
      "cell_type": "code",
      "source": [
        "import re\n",
        "Text=\"The product costs PKR 1500, while the deluxe version is priced at Rs. 2500\"\n",
        "\n",
        "match=re.findall(r\"\\bPKR+\\s....\",Text)\n",
        "\n",
        "\n",
        "match1=re.findall(r\"\\bRs......\",Text)\n",
        "\n",
        "a=match+match1\n",
        "print(a)"
      ],
      "metadata": {
        "colab": {
          "base_uri": "https://localhost:8080/"
        },
        "id": "gzIaP5-JNMKZ",
        "outputId": "d6423c4d-5863-4760-ad99-c2d40708b074"
      },
      "execution_count": 18,
      "outputs": [
        {
          "output_type": "stream",
          "name": "stdout",
          "text": [
            "['PKR 1500', 'Rs. 2500']\n"
          ]
        }
      ]
    }
  ]
}