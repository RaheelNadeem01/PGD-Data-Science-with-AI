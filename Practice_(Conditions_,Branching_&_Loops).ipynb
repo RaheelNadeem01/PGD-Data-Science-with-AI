{
  "nbformat": 4,
  "nbformat_minor": 0,
  "metadata": {
    "colab": {
      "provenance": [],
      "authorship_tag": "ABX9TyPGCUFIYms0XvHXwRBiRIDm",
      "include_colab_link": true
    },
    "kernelspec": {
      "name": "python3",
      "display_name": "Python 3"
    },
    "language_info": {
      "name": "python"
    }
  },
  "cells": [
    {
      "cell_type": "markdown",
      "metadata": {
        "id": "view-in-github",
        "colab_type": "text"
      },
      "source": [
        "<a href=\"https://colab.research.google.com/github/RaheelNadeem01/PGD-Data-Science-with-AI/blob/main/Practice_(Conditions_%2CBranching_%26_Loops).ipynb\" target=\"_parent\"><img src=\"https://colab.research.google.com/assets/colab-badge.svg\" alt=\"Open In Colab\"/></a>"
      ]
    },
    {
      "cell_type": "markdown",
      "source": [
        "#practice on topic Condition, Branching and Loops"
      ],
      "metadata": {
        "id": "oSnA-HUinp17"
      }
    },
    {
      "cell_type": "markdown",
      "source": [
        "**If Statement**"
      ],
      "metadata": {
        "id": "OqEgof0xmH95"
      }
    },
    {
      "cell_type": "code",
      "execution_count": null,
      "metadata": {
        "colab": {
          "base_uri": "https://localhost:8080/"
        },
        "id": "9gM3CRGfi0sg",
        "outputId": "19c6ad31-5d06-451b-c720-dbc5ee6bab4f"
      },
      "outputs": [
        {
          "output_type": "stream",
          "name": "stdout",
          "text": [
            "you are not allowed\n"
          ]
        }
      ],
      "source": [
        "age=17\n",
        "\n",
        "if age>18:\n",
        "  print(\"you can enter in concert\")\n",
        "print(\"you are not allowed\")"
      ]
    },
    {
      "cell_type": "markdown",
      "source": [
        "**Else Statement**"
      ],
      "metadata": {
        "id": "_Y5wMQc_mOHp"
      }
    },
    {
      "cell_type": "markdown",
      "source": [
        "**Or Statement**"
      ],
      "metadata": {
        "id": "pWZjMxYIvkpW"
      }
    },
    {
      "cell_type": "code",
      "source": [
        "age=19\n",
        "if age>18:\n",
        "  print(\"you can enter\")\n",
        "else:\n",
        "  print(\"go to another concert\")\n",
        "\n",
        "print(\"move on\")"
      ],
      "metadata": {
        "colab": {
          "base_uri": "https://localhost:8080/"
        },
        "id": "676jSIbXllCP",
        "outputId": "29585168-570c-44ed-c768-98fbb7a2a4ae"
      },
      "execution_count": null,
      "outputs": [
        {
          "output_type": "stream",
          "name": "stdout",
          "text": [
            "you can enter\n",
            "move on\n"
          ]
        }
      ]
    },
    {
      "cell_type": "code",
      "source": [
        "age=18\n",
        "\n",
        "if age>18: #or age>=18:\n",
        "  print(\"you can go\")\n",
        "elif age==18:\n",
        "  print(\"go to another 2nd concert\")\n",
        "else:\n",
        "  print(\"go to 3rd concert\")\n",
        "print(\"move on\")"
      ],
      "metadata": {
        "colab": {
          "base_uri": "https://localhost:8080/"
        },
        "id": "gVJnVlZPnAjQ",
        "outputId": "47f5fba6-eefa-4de0-c976-d22b71570e41"
      },
      "execution_count": null,
      "outputs": [
        {
          "output_type": "stream",
          "name": "stdout",
          "text": [
            "go to another 2nd concert\n",
            "move on\n"
          ]
        }
      ]
    },
    {
      "cell_type": "code",
      "source": [
        "# in or statement if one of the condition is true the condition will satisfy\n",
        "\n",
        "age=18\n",
        "\n",
        "if age>18 or age>=18:\n",
        "  print(\"you can go\")\n",
        "elif age==18:\n",
        "  print(\"go to another 2nd concert\")\n",
        "else:\n",
        "  print(\"go to 3rd concert\")\n",
        "print(\"move on\")"
      ],
      "metadata": {
        "colab": {
          "base_uri": "https://localhost:8080/"
        },
        "id": "ydLe-U7FoUOA",
        "outputId": "7a3eeb46-f538-4ea6-c827-0701e0845e35"
      },
      "execution_count": null,
      "outputs": [
        {
          "output_type": "stream",
          "name": "stdout",
          "text": [
            "you can go\n",
            "move on\n"
          ]
        }
      ]
    },
    {
      "cell_type": "markdown",
      "source": [
        "**and Statement**"
      ],
      "metadata": {
        "id": "eYNdO6t0vvIf"
      }
    },
    {
      "cell_type": "code",
      "source": [
        "# in and statement both of the condition need to true the condition will only satisfy\n",
        "\n",
        "age=int(input(\"enter the your age: \"))\n",
        "if age>16 and age<19:\n",
        "  print(\"you can go\")\n",
        "elif age==18:\n",
        "  print(\"go to another 2nd concert\")\n",
        "else:\n",
        "  print(\"go to 3rd concert\")\n",
        "print(\"move on\")"
      ],
      "metadata": {
        "colab": {
          "base_uri": "https://localhost:8080/"
        },
        "id": "eK8AN7c9ttF6",
        "outputId": "0207e35c-eb5a-44a9-adfb-9d095dd3b248"
      },
      "execution_count": null,
      "outputs": [
        {
          "output_type": "stream",
          "name": "stdout",
          "text": [
            "enter the your age: 19\n",
            "go to 3rd concert\n",
            "move on\n"
          ]
        }
      ]
    },
    {
      "cell_type": "markdown",
      "source": [
        "**create even , odd number program using if else**"
      ],
      "metadata": {
        "id": "2bIltMaPzkio"
      }
    },
    {
      "cell_type": "code",
      "source": [
        "x=10.0\n",
        "if x%2==0:\n",
        "  print(f\"number is even {x}\")\n",
        "else:\n",
        "  print(f\"number is off {x}\")"
      ],
      "metadata": {
        "colab": {
          "base_uri": "https://localhost:8080/"
        },
        "id": "6GHXuL2ot9iP",
        "outputId": "355bdef7-6a90-49a5-b065-0f5a7c49b147"
      },
      "execution_count": null,
      "outputs": [
        {
          "output_type": "stream",
          "name": "stdout",
          "text": [
            "number is even 10.0\n"
          ]
        }
      ]
    },
    {
      "cell_type": "markdown",
      "source": [
        "**make a grading system using if elif else statement**"
      ],
      "metadata": {
        "id": "4VFJ-ywV1OVi"
      }
    },
    {
      "cell_type": "code",
      "source": [
        "per = 32\n",
        "\n",
        "if per>=80:\n",
        "    print(\"A+\")\n",
        "elif per >= 70:\n",
        "    print(\"A\")\n",
        "elif per>= 60:\n",
        "    print(\"B\")\n",
        "elif per>=50:\n",
        "    print(\"C\")\n",
        "elif per>40:\n",
        "    print(\"D\")\n",
        "elif per>=33:\n",
        "    print(\"E\")\n",
        "else:\n",
        "    print(\"Fail\")"
      ],
      "metadata": {
        "colab": {
          "base_uri": "https://localhost:8080/"
        },
        "id": "z8SGMv2e0MtW",
        "outputId": "da894766-afa2-4648-e3a8-a17420361f3b"
      },
      "execution_count": null,
      "outputs": [
        {
          "output_type": "stream",
          "name": "stdout",
          "text": [
            "Fail\n"
          ]
        }
      ]
    },
    {
      "cell_type": "markdown",
      "source": [
        "**Nested If else**"
      ],
      "metadata": {
        "id": "kr-ltsexpt1e"
      }
    },
    {
      "cell_type": "code",
      "source": [
        "num=12\n",
        "if(num<0):\n",
        "  print(\"number is negative\")\n",
        "elif (num>0):\n",
        "  if(num<=10):\n",
        "    print(\"number is between 1 - 10\")\n",
        "  elif(num>=10 and num<=20):\n",
        "    print(\"number is between 10 & 20\")\n",
        "  else:\n",
        "    print(\"number is greater than 20\")\n",
        "else:\n",
        "  print(\"number is zero\")"
      ],
      "metadata": {
        "colab": {
          "base_uri": "https://localhost:8080/"
        },
        "id": "LeeqhHIwpxR1",
        "outputId": "8c702d58-8287-458e-95cc-d31ef6b3f175"
      },
      "execution_count": null,
      "outputs": [
        {
          "output_type": "stream",
          "name": "stdout",
          "text": [
            "number is between 10 & 20\n"
          ]
        }
      ]
    },
    {
      "cell_type": "code",
      "source": [
        "#making a program for user name and password system for login\n",
        "#so lets start\n",
        "\n",
        "user_name=input(\"enter user name \")\n",
        "password=(input(\"enter password \"))\n",
        "if user_name==\"admin\":\n",
        "  print(\"valid user\")\n",
        "  if password==\"raheel123\":\n",
        "    print(\"valid password\")\n",
        "  else:\n",
        "    print(\"invalid user name or password\")\n",
        "\n",
        "else:\n",
        "  (\"try again\")\n",
        "\n"
      ],
      "metadata": {
        "colab": {
          "base_uri": "https://localhost:8080/"
        },
        "id": "2jN6Fo0Q0mdM",
        "outputId": "4754e581-6224-400b-9b7f-92aabbda3ce1"
      },
      "execution_count": null,
      "outputs": [
        {
          "output_type": "stream",
          "name": "stdout",
          "text": [
            "enter user name admin\n",
            "enter password raheel123\n",
            "valid user\n",
            "valid password\n"
          ]
        }
      ]
    },
    {
      "cell_type": "code",
      "source": [
        "user_name=input(\"enter user name \")\n",
        "\n",
        "if user_name==\"admin\":\n",
        "  print(\"valid user\")\n",
        "  password=(input(\"enter password \"))\n",
        "  if password==\"raheel123\":\n",
        "    print(\"valid password\")\n",
        "    print(\"congrats you are logged in\")\n",
        "  else:\n",
        "    print(\"invalid password\")\n",
        "else:\n",
        "  print (\"invalid user name\")"
      ],
      "metadata": {
        "colab": {
          "base_uri": "https://localhost:8080/"
        },
        "id": "KFKIpggR4dlW",
        "outputId": "5c828fa4-91ae-4e35-b0ef-8f5c90c887d8"
      },
      "execution_count": null,
      "outputs": [
        {
          "output_type": "stream",
          "name": "stdout",
          "text": [
            "enter user name raheel\n",
            "invalid user name\n"
          ]
        }
      ]
    },
    {
      "cell_type": "code",
      "source": [
        "#making a program for user name and password and OTP system for login\n"
      ],
      "metadata": {
        "id": "hLt12l14lrOv"
      },
      "execution_count": null,
      "outputs": []
    },
    {
      "cell_type": "code",
      "source": [
        "selected_username=\"raheel315\"\n",
        "selected_password=\"raheel316\"\n",
        "selected_otp=\"12345\"\n",
        "\n",
        "user_name=(input(\"enter user name\")\n",
        "password=(input(\"enter user name\")\n",
        "otp=(input(\"enter user name\")\n",
        "\n",
        "if selected_username==user_name:\n",
        "     print(\"user name verified\")\n",
        "     if selected_password==password:\n",
        "      print(\"password verified\")\n",
        "      if selected_otp==otp:\n",
        "        print(otp verified)\n",
        "\n",
        "\n",
        "\n",
        "\n",
        "\n"
      ],
      "metadata": {
        "id": "w1ZW7DXKlxvg"
      },
      "execution_count": null,
      "outputs": []
    },
    {
      "cell_type": "code",
      "source": [
        "# Sample data\n",
        "stored_username = \"user123\"\n",
        "stored_password = \"pass456\"\n",
        "stored_otp = \"123456\"\n",
        "\n",
        "# Input from user\n",
        "input_username = input(\"Enter your username: \")\n",
        "input_password = input(\"Enter your password: \")\n",
        "input_otp = input(\"Enter the OTP: \")\n",
        "\n",
        "# First layer: Username check\n",
        "if input_username == stored_username:\n",
        "    print(\"Username verified.\")\n",
        "\n",
        "    # Second layer: Password check\n",
        "    if input_password == stored_password:\n",
        "        print(\"Password verified.\")\n",
        "\n",
        "        # Third layer: OTP check\n",
        "        if input_otp == stored_otp:\n",
        "            print(\"OTP verified. Authentication successful!\")\n",
        "        else:\n",
        "            print(\"Incorrect OTP. Authentication failed.\")\n",
        "    else:\n",
        "        print(\"Incorrect password. Authentication failed.\")\n",
        "else:\n",
        "    print(\"Username not recognized. Authentication failed.\")"
      ],
      "metadata": {
        "id": "GEePHOIolxqc",
        "colab": {
          "base_uri": "https://localhost:8080/"
        },
        "outputId": "b2979075-6315-4910-8156-671b3fa437b7"
      },
      "execution_count": null,
      "outputs": [
        {
          "output_type": "stream",
          "name": "stdout",
          "text": [
            "Enter your username: user123\n",
            "Enter your password: pass456\n",
            "Enter the OTP: 123456\n",
            "Username verified.\n",
            "Password verified.\n",
            "OTP verified. Authentication successful!\n"
          ]
        }
      ]
    },
    {
      "cell_type": "markdown",
      "source": [
        "#Loops"
      ],
      "metadata": {
        "id": "G9F7_UgUHyZ6"
      }
    },
    {
      "cell_type": "markdown",
      "source": [
        "while\n",
        "\n",
        "for\n",
        "\n",
        "controls - optional\n",
        "break\n",
        "\n",
        "*   continue\n",
        "*   pass\n",
        "\n",
        "\n",
        "Three things are important\n",
        "\n",
        "\n",
        "*   counter\n",
        "\n",
        "*   logic\n",
        "\n",
        "\n",
        "*   increament/Decrement\n",
        "\n"
      ],
      "metadata": {
        "id": "7UDwedFdI-HD"
      }
    },
    {
      "cell_type": "markdown",
      "source": [
        "**while loop**"
      ],
      "metadata": {
        "id": "MvBly6sIL70q"
      }
    },
    {
      "cell_type": "code",
      "source": [
        "counter=0\n",
        "while counter<=10:\n",
        "  print(counter)\n",
        "  counter+=1\n",
        "else:\n",
        "  print(\"stop\")\n"
      ],
      "metadata": {
        "id": "oAq7TTKXlxlh",
        "colab": {
          "base_uri": "https://localhost:8080/"
        },
        "outputId": "91456946-a39d-424f-809d-280c2dbacf57"
      },
      "execution_count": null,
      "outputs": [
        {
          "output_type": "stream",
          "name": "stdout",
          "text": [
            "0\n",
            "1\n",
            "2\n",
            "3\n",
            "4\n",
            "5\n",
            "6\n",
            "7\n",
            "8\n",
            "9\n",
            "10\n",
            "stop\n"
          ]
        }
      ]
    },
    {
      "cell_type": "code",
      "source": [
        "counter=15\n",
        "while counter>=1:\n",
        "  print(counter)\n",
        "  counter-=1\n"
      ],
      "metadata": {
        "colab": {
          "base_uri": "https://localhost:8080/"
        },
        "id": "FQg9s39GLel0",
        "outputId": "bb12c2b2-972e-4f08-9f5a-130ed166d2ec"
      },
      "execution_count": 2,
      "outputs": [
        {
          "output_type": "stream",
          "name": "stdout",
          "text": [
            "15\n",
            "14\n",
            "13\n",
            "12\n",
            "11\n",
            "10\n",
            "9\n",
            "8\n",
            "7\n",
            "6\n",
            "5\n",
            "4\n",
            "3\n",
            "2\n",
            "1\n"
          ]
        }
      ]
    },
    {
      "cell_type": "markdown",
      "source": [
        "**Continue and pass**"
      ],
      "metadata": {
        "id": "2ScBZCJeOWgT"
      }
    },
    {
      "cell_type": "code",
      "source": [
        "counter=100\n",
        "while counter>=0:\n",
        "  print(counter)\n",
        "  if counter==85:\n",
        "    break\n",
        "  counter -=1\n",
        "print(\"end\")"
      ],
      "metadata": {
        "colab": {
          "base_uri": "https://localhost:8080/"
        },
        "id": "UFVRQXbhOad0",
        "outputId": "fa463402-8cf9-47d5-e3e3-8aa5a7fc4589"
      },
      "execution_count": null,
      "outputs": [
        {
          "output_type": "stream",
          "name": "stdout",
          "text": [
            "100\n",
            "99\n",
            "98\n",
            "97\n",
            "96\n",
            "95\n",
            "94\n",
            "93\n",
            "92\n",
            "91\n",
            "90\n",
            "89\n",
            "88\n",
            "87\n",
            "86\n",
            "85\n",
            "end\n"
          ]
        }
      ]
    },
    {
      "cell_type": "code",
      "source": [
        "i=0\n",
        "while i<=10:\n",
        "  i+=1\n",
        "  if i ==5:\n",
        "    continue\n",
        "  print(i)\n",
        "\n"
      ],
      "metadata": {
        "colab": {
          "base_uri": "https://localhost:8080/"
        },
        "id": "Pntyui7sQEHC",
        "outputId": "79b7e54c-5aab-4453-8ae8-d37561b00008"
      },
      "execution_count": null,
      "outputs": [
        {
          "output_type": "stream",
          "name": "stdout",
          "text": [
            "1\n",
            "2\n",
            "3\n",
            "4\n",
            "6\n",
            "7\n",
            "8\n",
            "9\n",
            "10\n",
            "11\n"
          ]
        }
      ]
    },
    {
      "cell_type": "markdown",
      "source": [
        "**For Loop**"
      ],
      "metadata": {
        "id": "g3ZWpzgSTD-p"
      }
    },
    {
      "cell_type": "markdown",
      "source": [
        "for (counter;logic;inc/dec){\n",
        "\n",
        "}"
      ],
      "metadata": {
        "id": "_9pM12UAVq2H"
      }
    },
    {
      "cell_type": "code",
      "source": [
        "name=\"raheel nadeem\"\n",
        "for i in name:\n",
        "  print(i)"
      ],
      "metadata": {
        "colab": {
          "base_uri": "https://localhost:8080/"
        },
        "id": "60OBkd_VTW01",
        "outputId": "21f5f839-dd7a-427a-a8f7-27beb8b9b36f"
      },
      "execution_count": null,
      "outputs": [
        {
          "output_type": "stream",
          "name": "stdout",
          "text": [
            "r\n",
            "a\n",
            "h\n",
            "e\n",
            "e\n",
            "l\n",
            " \n",
            "n\n",
            "a\n",
            "d\n",
            "e\n",
            "e\n",
            "m\n"
          ]
        }
      ]
    },
    {
      "cell_type": "code",
      "source": [
        "#if in a for loop\n",
        "name=\"raheel nadeem\"\n",
        "for i in name:\n",
        "  print(i)\n",
        "  if i==\"e\":\n",
        "    print(\"this is a special character\")"
      ],
      "metadata": {
        "colab": {
          "base_uri": "https://localhost:8080/"
        },
        "id": "-2JnYS3sb4-B",
        "outputId": "8a0dee49-ef5a-45ae-c1db-6c26078b908b"
      },
      "execution_count": null,
      "outputs": [
        {
          "output_type": "stream",
          "name": "stdout",
          "text": [
            "r\n",
            "a\n",
            "h\n",
            "e\n",
            "this is a special character\n",
            "e\n",
            "this is a special character\n",
            "l\n",
            " \n",
            "n\n",
            "a\n",
            "d\n",
            "e\n",
            "this is a special character\n",
            "e\n",
            "this is a special character\n",
            "m\n"
          ]
        }
      ]
    },
    {
      "cell_type": "code",
      "source": [
        "colors=[\"green\",\"red\",\"blue\",\"yellow\",\"brown\"]\n",
        "for color in colors:\n",
        "  print(color)  # for n ander for (krega ye k print hua huva word ko itterate krdega)\n",
        "  for i in color:\n",
        "    print(i)"
      ],
      "metadata": {
        "colab": {
          "base_uri": "https://localhost:8080/"
        },
        "id": "WiHqvf6obMs3",
        "outputId": "ae78ea79-96b4-4b3a-b78e-e377622f81f2"
      },
      "execution_count": null,
      "outputs": [
        {
          "output_type": "stream",
          "name": "stdout",
          "text": [
            "green\n",
            "g\n",
            "r\n",
            "e\n",
            "e\n",
            "n\n",
            "red\n",
            "r\n",
            "e\n",
            "d\n",
            "blue\n",
            "b\n",
            "l\n",
            "u\n",
            "e\n",
            "yellow\n",
            "y\n",
            "e\n",
            "l\n",
            "l\n",
            "o\n",
            "w\n",
            "brown\n",
            "b\n",
            "r\n",
            "o\n",
            "w\n",
            "n\n"
          ]
        }
      ]
    },
    {
      "cell_type": "code",
      "source": [
        "for k in range(0,5):\n",
        "  print(k)"
      ],
      "metadata": {
        "colab": {
          "base_uri": "https://localhost:8080/"
        },
        "id": "TXSquV9men9T",
        "outputId": "92ead914-342b-4842-9b99-c11d87ff6bf3"
      },
      "execution_count": null,
      "outputs": [
        {
          "output_type": "stream",
          "name": "stdout",
          "text": [
            "0\n",
            "1\n",
            "2\n",
            "3\n",
            "4\n"
          ]
        }
      ]
    },
    {
      "cell_type": "code",
      "source": [
        "for k in range (10):\n",
        "  print(k)"
      ],
      "metadata": {
        "colab": {
          "base_uri": "https://localhost:8080/"
        },
        "id": "oO6BCJFrgMey",
        "outputId": "5d358f1f-441d-4b38-bd4c-82900d5403e9"
      },
      "execution_count": null,
      "outputs": [
        {
          "output_type": "stream",
          "name": "stdout",
          "text": [
            "0\n",
            "1\n",
            "2\n",
            "3\n",
            "4\n",
            "5\n",
            "6\n",
            "7\n",
            "8\n",
            "9\n"
          ]
        }
      ]
    },
    {
      "cell_type": "code",
      "source": [
        "names = ['a','b','c','d','e','f']\n",
        "for name in names:\n",
        "  print(name)"
      ],
      "metadata": {
        "id": "oP-gIBy2iveD",
        "colab": {
          "base_uri": "https://localhost:8080/"
        },
        "outputId": "16a271c6-d217-4b65-902f-0491a6f8526f"
      },
      "execution_count": null,
      "outputs": [
        {
          "output_type": "stream",
          "name": "stdout",
          "text": [
            "a\n",
            "b\n",
            "c\n",
            "d\n",
            "e\n",
            "f\n"
          ]
        }
      ]
    },
    {
      "cell_type": "code",
      "source": [
        "names=[\"raheel\",\"hammid\",\"faizan\",\"ibrahim\"]\n",
        "for name in names:\n",
        "  print(f\"Hello Mr. {name} welcome to data science class\")"
      ],
      "metadata": {
        "colab": {
          "base_uri": "https://localhost:8080/"
        },
        "id": "j0ysye5Jo7eS",
        "outputId": "a4ce3ed7-555e-4399-b989-395e4141a479"
      },
      "execution_count": null,
      "outputs": [
        {
          "output_type": "stream",
          "name": "stdout",
          "text": [
            "Hello Mr. raheel welcome to data science class\n",
            "Hello Mr. hammid welcome to data science class\n",
            "Hello Mr. faizan welcome to data science class\n",
            "Hello Mr. ibrahim welcome to data science class\n"
          ]
        }
      ]
    },
    {
      "cell_type": "markdown",
      "source": [
        "**Zip function**\n",
        "\n"
      ],
      "metadata": {
        "id": "8-v636wNqWBx"
      }
    },
    {
      "cell_type": "markdown",
      "source": [
        "two lists can be zip by using zip function"
      ],
      "metadata": {
        "id": "636d5bFoqefi"
      }
    },
    {
      "cell_type": "code",
      "source": [
        "a=[\"raheel\",\"hammid\",\"faizan\"]\n",
        "b=[\"SI3.1\",\"SI3.1\",\"SI3.2\"]\n",
        "d=list(zip(a,b))\n",
        "print(d)"
      ],
      "metadata": {
        "colab": {
          "base_uri": "https://localhost:8080/"
        },
        "id": "Qk0VKYCCpln0",
        "outputId": "8bc92ae7-4690-4dc8-b68a-6212a7c82815"
      },
      "execution_count": null,
      "outputs": [
        {
          "output_type": "stream",
          "name": "stdout",
          "text": [
            "[('raheel', 'SI3.1'), ('hammid', 'SI3.1'), ('faizan', 'SI3.2')]\n"
          ]
        }
      ]
    },
    {
      "cell_type": "code",
      "source": [
        "names = ['ali','hamza','junaid']\n",
        "ages = [22,25,30]\n",
        "courses = ['AI',\"ML\",\"DS\"]\n",
        "\n",
        "d=list(zip(names,ages,courses))\n",
        "d"
      ],
      "metadata": {
        "colab": {
          "base_uri": "https://localhost:8080/"
        },
        "id": "s88e5S6mrBG5",
        "outputId": "cc8cbc41-526f-4ae2-c6db-6abd7b78bfec"
      },
      "execution_count": null,
      "outputs": [
        {
          "output_type": "execute_result",
          "data": {
            "text/plain": [
              "[('ali', 22, 'AI'), ('hamza', 25, 'ML'), ('junaid', 30, 'DS')]"
            ]
          },
          "metadata": {},
          "execution_count": 13
        }
      ]
    },
    {
      "cell_type": "markdown",
      "source": [
        "**Unzip**"
      ],
      "metadata": {
        "id": "nv2BSjheseOm"
      }
    },
    {
      "cell_type": "code",
      "source": [
        "a,b,c = [1,2,3]\n",
        "\n",
        "print(a)\n",
        "print(b)\n",
        "print(c)"
      ],
      "metadata": {
        "colab": {
          "base_uri": "https://localhost:8080/"
        },
        "id": "hDx_FeSsrXoc",
        "outputId": "b23930e8-cf7a-4294-b934-f06f5f2d93a2"
      },
      "execution_count": null,
      "outputs": [
        {
          "output_type": "stream",
          "name": "stdout",
          "text": [
            "1\n",
            "2\n",
            "3\n"
          ]
        }
      ]
    },
    {
      "cell_type": "code",
      "source": [
        "names = ['ali','hamza','junaid']\n",
        "ages = [22,25,30]\n",
        "courses = ['AI',\"ML\",\"DS\"]\n",
        "\n",
        "for name,age,course in zip (names,ages,courses):\n",
        "  print(f\"hello mr {name} , your age is {age} and your course is {course}\")"
      ],
      "metadata": {
        "colab": {
          "base_uri": "https://localhost:8080/"
        },
        "id": "3RUyUpaasbUz",
        "outputId": "dbb6c218-5cdf-4cb0-9a2a-d27bc3808d1b"
      },
      "execution_count": null,
      "outputs": [
        {
          "output_type": "stream",
          "name": "stdout",
          "text": [
            "hello mr ali , your age is 22 and your course is AI\n",
            "hello mr hamza , your age is 25 and your course is ML\n",
            "hello mr junaid , your age is 30 and your course is DS\n"
          ]
        }
      ]
    },
    {
      "cell_type": "code",
      "source": [
        "users = ['a','b','c']\n",
        "password = ['1','2','3']\n",
        "\n",
        "ui = input(\"UserName:\\t\")\n",
        "pi = input(\"Password:\\t\")\n",
        "\n",
        "for u,p in zip(users,password):\n",
        "    if ui == u and pi == p:\n",
        "        print(f\"Welcome Dear {u}!\")\n",
        "        break\n",
        "\n",
        "else:\n",
        "    print(\"Not Valid user name password!\")"
      ],
      "metadata": {
        "colab": {
          "base_uri": "https://localhost:8080/"
        },
        "id": "sa8_udisteKp",
        "outputId": "aacf17ed-ad7d-49ac-c8d6-b0def371df20"
      },
      "execution_count": null,
      "outputs": [
        {
          "output_type": "stream",
          "name": "stdout",
          "text": [
            "Not Valid user name password!\n"
          ]
        }
      ]
    },
    {
      "cell_type": "markdown",
      "source": [
        "**LOOP IF and ZIP example**"
      ],
      "metadata": {
        "id": "K88ct0ssduJ6"
      }
    },
    {
      "cell_type": "code",
      "source": [
        "user=['a','b','c']\n",
        "password = ['1','2','3']\n",
        "\n",
        "ui=input(\"user name :\")\n",
        "up=input(\"user password:\")\n",
        "\n",
        "for u,p in zip(user,password):\n",
        "  if ui==u and up==p:\n",
        "    print(f\"Welcome user {u}\")\n",
        "    break\n",
        "\n",
        "  else:\n",
        "    print(\"invalid user\")"
      ],
      "metadata": {
        "id": "jlPaOjizuITr",
        "colab": {
          "base_uri": "https://localhost:8080/"
        },
        "outputId": "b3e18900-aebb-4931-87c1-069f25554e2d"
      },
      "execution_count": null,
      "outputs": [
        {
          "output_type": "stream",
          "name": "stdout",
          "text": [
            "user name :a\n",
            "user password:6\n",
            "invalid user\n",
            "invalid user\n",
            "invalid user\n"
          ]
        }
      ]
    },
    {
      "cell_type": "markdown",
      "source": [
        "**Enumerate function**"
      ],
      "metadata": {
        "id": "s8Xf8xDBeKUL"
      }
    },
    {
      "cell_type": "code",
      "source": [
        "names=['raheel','shahryar','faizan']\n",
        "list(enumerate(names))"
      ],
      "metadata": {
        "id": "s7KxRTUSwk1j",
        "colab": {
          "base_uri": "https://localhost:8080/"
        },
        "outputId": "87abd175-0b05-474f-eb7d-202a11639cdc"
      },
      "execution_count": 3,
      "outputs": [
        {
          "output_type": "execute_result",
          "data": {
            "text/plain": [
              "[(0, 'raheel'), (1, 'shahryar'), (2, 'faizan')]"
            ]
          },
          "metadata": {},
          "execution_count": 3
        }
      ]
    },
    {
      "cell_type": "code",
      "source": [
        "names = ['ali','hamza','junaid']\n",
        "for idx, value in enumerate(names):\n",
        "    print(idx, value)"
      ],
      "metadata": {
        "colab": {
          "base_uri": "https://localhost:8080/"
        },
        "id": "HabmXlWbexEf",
        "outputId": "61e30eb8-ed51-4460-cd38-75188fe71bd4"
      },
      "execution_count": 4,
      "outputs": [
        {
          "output_type": "stream",
          "name": "stdout",
          "text": [
            "0 ali\n",
            "1 hamza\n",
            "2 junaid\n"
          ]
        }
      ]
    },
    {
      "cell_type": "markdown",
      "source": [
        "**Example of words which you dont want to print**"
      ],
      "metadata": {
        "id": "Iw1t6FAKhWuN"
      }
    },
    {
      "cell_type": "code",
      "source": [
        "names=list(\"qwertyuiopasdfghjklzxcvbnm\")\n",
        "blocked_customer = ['b','z','k','w']\n",
        "for name in names:\n",
        "  if name not in blocked_customer:\n",
        "    print(f\"hello {name} !\")"
      ],
      "metadata": {
        "colab": {
          "base_uri": "https://localhost:8080/"
        },
        "id": "fBzGj5tSfqJT",
        "outputId": "09d497ce-777e-4046-87d9-d448262b7c57"
      },
      "execution_count": 5,
      "outputs": [
        {
          "output_type": "stream",
          "name": "stdout",
          "text": [
            "hello q !\n",
            "hello e !\n",
            "hello r !\n",
            "hello t !\n",
            "hello y !\n",
            "hello u !\n",
            "hello i !\n",
            "hello o !\n",
            "hello p !\n",
            "hello a !\n",
            "hello s !\n",
            "hello d !\n",
            "hello f !\n",
            "hello g !\n",
            "hello h !\n",
            "hello j !\n",
            "hello l !\n",
            "hello x !\n",
            "hello c !\n",
            "hello v !\n",
            "hello n !\n",
            "hello m !\n"
          ]
        }
      ]
    },
    {
      "cell_type": "code",
      "source": [
        "names=list(\"qwertyuiopasdfghjklzxcvbnm\")\n",
        "blocked_customer = ['b','z','k','w']\n",
        "for name in names:\n",
        "  if name in blocked_customer:\n",
        "    print(f\"hello {name} !\")\n",
        "\n"
      ],
      "metadata": {
        "colab": {
          "base_uri": "https://localhost:8080/"
        },
        "id": "alS7SU6piTX7",
        "outputId": "ae0869e9-938c-48ab-e76b-145ea7165b52"
      },
      "execution_count": 13,
      "outputs": [
        {
          "output_type": "stream",
          "name": "stdout",
          "text": [
            "hello w !\n",
            "hello k !\n",
            "hello z !\n",
            "hello b !\n"
          ]
        }
      ]
    },
    {
      "cell_type": "code",
      "source": [
        "data = []\n",
        "\n",
        "while True:\n",
        "    n = input(\"name\")\n",
        "    p = input(\"password\")\n",
        "    if n=='exit' or n == 'x':\n",
        "        break\n",
        "\n",
        "\n",
        "    data.append([n,p])"
      ],
      "metadata": {
        "colab": {
          "base_uri": "https://localhost:8080/"
        },
        "id": "dwl0jUEOikT6",
        "outputId": "8231c94c-b7f6-4480-a457-b7cdb619978f"
      },
      "execution_count": 15,
      "outputs": [
        {
          "name": "stdout",
          "output_type": "stream",
          "text": [
            "nameexit\n",
            "passwordexit\n"
          ]
        }
      ]
    },
    {
      "cell_type": "code",
      "source": [],
      "metadata": {
        "id": "k-isZ-3_l5FP"
      },
      "execution_count": null,
      "outputs": []
    }
  ]
}