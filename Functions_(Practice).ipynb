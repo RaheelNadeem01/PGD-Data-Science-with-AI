{
  "nbformat": 4,
  "nbformat_minor": 0,
  "metadata": {
    "colab": {
      "provenance": [],
      "authorship_tag": "ABX9TyMWBKapIfRYz/T6kid338Jt",
      "include_colab_link": true
    },
    "kernelspec": {
      "name": "python3",
      "display_name": "Python 3"
    },
    "language_info": {
      "name": "python"
    }
  },
  "cells": [
    {
      "cell_type": "markdown",
      "metadata": {
        "id": "view-in-github",
        "colab_type": "text"
      },
      "source": [
        "<a href=\"https://colab.research.google.com/github/RaheelNadeem01/PGD-Data-Science-with-AI/blob/main/Functions_(Practice).ipynb\" target=\"_parent\"><img src=\"https://colab.research.google.com/assets/colab-badge.svg\" alt=\"Open In Colab\"/></a>"
      ]
    },
    {
      "cell_type": "markdown",
      "source": [
        "#Functions"
      ],
      "metadata": {
        "id": "fS2iQSUZlArn"
      }
    },
    {
      "cell_type": "markdown",
      "source": [
        "**Non return functions**"
      ],
      "metadata": {
        "id": "6cEcmx3tlLea"
      }
    },
    {
      "cell_type": "code",
      "execution_count": null,
      "metadata": {
        "colab": {
          "base_uri": "https://localhost:8080/"
        },
        "id": "WRTcUY6Vk6iT",
        "outputId": "3467c2c7-e6a6-4277-9582-10b25d078d48"
      },
      "outputs": [
        {
          "output_type": "stream",
          "name": "stdout",
          "text": [
            "NED University\n",
            "PGD Data Science - Generative AI Program!\n",
            "Batch 5\n",
            "Saturday & Sunday Calsses\n"
          ]
        }
      ],
      "source": [
        "def introduction():\n",
        "   print(\"NED University\") # body start\n",
        "   print(\"PGD Data Science - Generative AI Program!\")\n",
        "   print(\"Batch 5\")\n",
        "   print(\"Saturday & Sunday Calsses\") #body end\n",
        "\n",
        "introduction()  #calling custom function   # calling is always from out of the indent block\n"
      ]
    },
    {
      "cell_type": "code",
      "source": [
        "introduction()\n"
      ],
      "metadata": {
        "colab": {
          "base_uri": "https://localhost:8080/"
        },
        "id": "tTK_aSRcmWTQ",
        "outputId": "07d50f18-e152-4311-b3fc-4765fbea0183"
      },
      "execution_count": null,
      "outputs": [
        {
          "output_type": "stream",
          "name": "stdout",
          "text": [
            "NED University\n",
            "PGD Data Science - Generative AI Program!\n",
            "Batch 5\n",
            "Saturday & Sunday Calsses\n"
          ]
        }
      ]
    },
    {
      "cell_type": "markdown",
      "source": [
        "**Return Function**"
      ],
      "metadata": {
        "id": "SvERnLslnSFk"
      }
    },
    {
      "cell_type": "code",
      "source": [
        "def introduction():\n",
        "   print(\"NED University\")\n",
        "   print(\"PGD Data Science - Generative AI Program!\")\n",
        "   print(\"Batch 5\")\n",
        "   print(\"Saturday & Sunday Calsses\")\n",
        "\n",
        "   return \"Pakistan zinda bad!\"   # return function just give the result which is written in the return\n",
        "\n",
        "abc=introduction()\n",
        "\n",
        "print(abc)\n",
        "\n"
      ],
      "metadata": {
        "colab": {
          "base_uri": "https://localhost:8080/"
        },
        "id": "CEZzyPQ3nbTp",
        "outputId": "515a0949-56a7-4cbf-c89f-bbd30ce46213"
      },
      "execution_count": null,
      "outputs": [
        {
          "output_type": "stream",
          "name": "stdout",
          "text": [
            "NED University\n",
            "PGD Data Science - Generative AI Program!\n",
            "Batch 5\n",
            "Saturday & Sunday Calsses\n",
            "Pakistan zinda bad!\n"
          ]
        }
      ]
    },
    {
      "cell_type": "code",
      "source": [
        "introduction()\n"
      ],
      "metadata": {
        "colab": {
          "base_uri": "https://localhost:8080/",
          "height": 109
        },
        "id": "2zzLRxwFoD2d",
        "outputId": "f5746d0c-e77e-455c-de6b-a09f20ea2cbf"
      },
      "execution_count": null,
      "outputs": [
        {
          "output_type": "stream",
          "name": "stdout",
          "text": [
            "NED University\n",
            "PGD Data Science - Generative AI Program!\n",
            "Batch 5\n",
            "Saturday & Sunday Calsses\n"
          ]
        },
        {
          "output_type": "execute_result",
          "data": {
            "text/plain": [
              "'Pakistan zinda bad!'"
            ],
            "application/vnd.google.colaboratory.intrinsic+json": {
              "type": "string"
            }
          },
          "metadata": {},
          "execution_count": 6
        }
      ]
    },
    {
      "cell_type": "code",
      "source": [
        "print(abc)"
      ],
      "metadata": {
        "colab": {
          "base_uri": "https://localhost:8080/"
        },
        "id": "XvFVo3l_oJnb",
        "outputId": "c5a819b2-686a-4486-8432-9b17674a98ae"
      },
      "execution_count": null,
      "outputs": [
        {
          "output_type": "stream",
          "name": "stdout",
          "text": [
            "Pakistan zinda bad!\n"
          ]
        }
      ]
    },
    {
      "cell_type": "markdown",
      "source": [
        "**Required Parameters**"
      ],
      "metadata": {
        "id": "cgt41rrEpBux"
      }
    },
    {
      "cell_type": "code",
      "source": [
        "def add_two_nums(num1,num2):\n",
        "  return num1 + num2\n",
        "\n",
        "a=add_two_nums(5,6)\n",
        "print(a)"
      ],
      "metadata": {
        "colab": {
          "base_uri": "https://localhost:8080/"
        },
        "id": "wPD4TT4ypI0r",
        "outputId": "b553681d-756c-453f-d805-ab9f9beaa768"
      },
      "execution_count": null,
      "outputs": [
        {
          "output_type": "stream",
          "name": "stdout",
          "text": [
            "my name is raheel\n",
            "11\n"
          ]
        }
      ]
    },
    {
      "cell_type": "code",
      "source": [
        "def add_two_nums(num1,num2):\n",
        "  return num1 + num2\n",
        "\n",
        "a=add_two_nums(5)\n",
        "print(a)"
      ],
      "metadata": {
        "colab": {
          "base_uri": "https://localhost:8080/",
          "height": 236
        },
        "id": "JQNfMGlYp5hq",
        "outputId": "e122c59b-3e5e-43d3-a828-12e96b0e3522"
      },
      "execution_count": null,
      "outputs": [
        {
          "output_type": "error",
          "ename": "TypeError",
          "evalue": "ignored",
          "traceback": [
            "\u001b[0;31m---------------------------------------------------------------------------\u001b[0m",
            "\u001b[0;31mTypeError\u001b[0m                                 Traceback (most recent call last)",
            "\u001b[0;32m<ipython-input-11-d07f8263d1f3>\u001b[0m in \u001b[0;36m<cell line: 4>\u001b[0;34m()\u001b[0m\n\u001b[1;32m      2\u001b[0m   \u001b[0;32mreturn\u001b[0m \u001b[0mnum1\u001b[0m \u001b[0;34m+\u001b[0m \u001b[0mnum2\u001b[0m\u001b[0;34m\u001b[0m\u001b[0;34m\u001b[0m\u001b[0m\n\u001b[1;32m      3\u001b[0m \u001b[0;34m\u001b[0m\u001b[0m\n\u001b[0;32m----> 4\u001b[0;31m \u001b[0ma\u001b[0m\u001b[0;34m=\u001b[0m\u001b[0madd_two_nums\u001b[0m\u001b[0;34m(\u001b[0m\u001b[0;36m5\u001b[0m\u001b[0;34m)\u001b[0m\u001b[0;34m\u001b[0m\u001b[0;34m\u001b[0m\u001b[0m\n\u001b[0m\u001b[1;32m      5\u001b[0m \u001b[0mprint\u001b[0m\u001b[0;34m(\u001b[0m\u001b[0ma\u001b[0m\u001b[0;34m)\u001b[0m\u001b[0;34m\u001b[0m\u001b[0;34m\u001b[0m\u001b[0m\n",
            "\u001b[0;31mTypeError\u001b[0m: add_two_nums() missing 1 required positional argument: 'num2'"
          ]
        }
      ]
    },
    {
      "cell_type": "code",
      "source": [
        "def add_two_nums(num1,num2):\n",
        "  return num1 + num2\n",
        "\n",
        "a=add_two_nums(5,6,7)   # enter the arguments equal to the parameters given in the function\n",
        "print(a)"
      ],
      "metadata": {
        "colab": {
          "base_uri": "https://localhost:8080/",
          "height": 236
        },
        "id": "fNPJ10p2p-Y7",
        "outputId": "e67581d2-caff-4c46-a7cb-09ca4ba402c9"
      },
      "execution_count": null,
      "outputs": [
        {
          "output_type": "error",
          "ename": "TypeError",
          "evalue": "ignored",
          "traceback": [
            "\u001b[0;31m---------------------------------------------------------------------------\u001b[0m",
            "\u001b[0;31mTypeError\u001b[0m                                 Traceback (most recent call last)",
            "\u001b[0;32m<ipython-input-12-88cbd1a0cb57>\u001b[0m in \u001b[0;36m<cell line: 4>\u001b[0;34m()\u001b[0m\n\u001b[1;32m      2\u001b[0m   \u001b[0;32mreturn\u001b[0m \u001b[0mnum1\u001b[0m \u001b[0;34m+\u001b[0m \u001b[0mnum2\u001b[0m\u001b[0;34m\u001b[0m\u001b[0;34m\u001b[0m\u001b[0m\n\u001b[1;32m      3\u001b[0m \u001b[0;34m\u001b[0m\u001b[0m\n\u001b[0;32m----> 4\u001b[0;31m \u001b[0ma\u001b[0m\u001b[0;34m=\u001b[0m\u001b[0madd_two_nums\u001b[0m\u001b[0;34m(\u001b[0m\u001b[0;36m5\u001b[0m\u001b[0;34m,\u001b[0m\u001b[0;36m6\u001b[0m\u001b[0;34m,\u001b[0m\u001b[0;36m7\u001b[0m\u001b[0;34m)\u001b[0m\u001b[0;34m\u001b[0m\u001b[0;34m\u001b[0m\u001b[0m\n\u001b[0m\u001b[1;32m      5\u001b[0m \u001b[0mprint\u001b[0m\u001b[0;34m(\u001b[0m\u001b[0ma\u001b[0m\u001b[0;34m)\u001b[0m\u001b[0;34m\u001b[0m\u001b[0;34m\u001b[0m\u001b[0m\n",
            "\u001b[0;31mTypeError\u001b[0m: add_two_nums() takes 2 positional arguments but 3 were given"
          ]
        }
      ]
    },
    {
      "cell_type": "markdown",
      "source": [
        "**Keyword arguments**"
      ],
      "metadata": {
        "id": "qNofB0yOrxN2"
      }
    },
    {
      "cell_type": "code",
      "source": [
        "def add_two_nums(num1,num2):\n",
        "  print(f'number1:{num1} and number2:{num2}')\n",
        "  return num1 + num2\n",
        "add_two_nums(num1=7,num2=8)"
      ],
      "metadata": {
        "colab": {
          "base_uri": "https://localhost:8080/"
        },
        "id": "NnDOxuoyr1QF",
        "outputId": "5f16918e-f104-42c1-aa8a-af2f915d8e4c"
      },
      "execution_count": null,
      "outputs": [
        {
          "output_type": "stream",
          "name": "stdout",
          "text": [
            "number1:7 and number2:8\n"
          ]
        },
        {
          "output_type": "execute_result",
          "data": {
            "text/plain": [
              "15"
            ]
          },
          "metadata": {},
          "execution_count": 21
        }
      ]
    },
    {
      "cell_type": "code",
      "source": [
        "def abc(x,y=0,z=0):\n",
        "  return x+y+z\n",
        "print(abc(2,2,2)) #Positional argument\n",
        "print(abc(x=2,y=4,z=6)) #Keyword argument\n"
      ],
      "metadata": {
        "colab": {
          "base_uri": "https://localhost:8080/"
        },
        "id": "s1PKXM1Asuvq",
        "outputId": "0c8cec0e-e182-480e-9fa7-65ab4f6e7c2d"
      },
      "execution_count": null,
      "outputs": [
        {
          "output_type": "stream",
          "name": "stdout",
          "text": [
            "4\n",
            "12\n"
          ]
        }
      ]
    },
    {
      "cell_type": "code",
      "source": [
        "l = ['a','b','c']\n",
        "print(l[0],l[1],l[2])\n",
        "print(*l)\n"
      ],
      "metadata": {
        "colab": {
          "base_uri": "https://localhost:8080/"
        },
        "id": "sIaSoj8U2wSl",
        "outputId": "148a42fa-2b90-4fb8-d747-59f2545f896e"
      },
      "execution_count": null,
      "outputs": [
        {
          "output_type": "stream",
          "name": "stdout",
          "text": [
            "a b c\n",
            "a b c\n"
          ]
        }
      ]
    },
    {
      "cell_type": "code",
      "source": [
        "def abc(x,y=0,z=0):\n",
        "  return x+y+z\n",
        "\n",
        "d={\"x\":7,\"y\":5,\"z\":2}\n",
        "print(abc(x=7,y=5,z=2))\n",
        "\n",
        "print(abc(**d))\n"
      ],
      "metadata": {
        "colab": {
          "base_uri": "https://localhost:8080/"
        },
        "id": "mAkb42OZ6w0t",
        "outputId": "df3455bb-8659-4500-eb44-d2cda33daab2"
      },
      "execution_count": null,
      "outputs": [
        {
          "output_type": "stream",
          "name": "stdout",
          "text": [
            "14\n",
            "14\n"
          ]
        }
      ]
    },
    {
      "cell_type": "code",
      "source": [
        "def abc(x,y=0,z=0):\n",
        "    return x + y + z\n",
        "\n",
        "d = {\"x\":7,\n",
        "    \"y\":20,\n",
        "    \"z\":30 ,\n",
        "    'e':200}\n",
        "\n",
        "print(d['x'], d['y'], d['z'])\n",
        "print(abc(d['x'], d['y'], d['z']))\n",
        "print(abc(x=7, y=20, z=30))\n",
        "\n",
        "print(abc(**d))"
      ],
      "metadata": {
        "colab": {
          "base_uri": "https://localhost:8080/",
          "height": 273
        },
        "id": "hV9s1vkP8Djh",
        "outputId": "e5cb1843-69f6-4f35-9e7f-c6f0909d1fc7"
      },
      "execution_count": null,
      "outputs": [
        {
          "output_type": "stream",
          "name": "stdout",
          "text": [
            "7 20 30\n",
            "57\n",
            "57\n"
          ]
        },
        {
          "output_type": "error",
          "ename": "TypeError",
          "evalue": "ignored",
          "traceback": [
            "\u001b[0;31m---------------------------------------------------------------------------\u001b[0m",
            "\u001b[0;31mTypeError\u001b[0m                                 Traceback (most recent call last)",
            "\u001b[0;32m<ipython-input-42-12630d9c83e4>\u001b[0m in \u001b[0;36m<cell line: 13>\u001b[0;34m()\u001b[0m\n\u001b[1;32m     11\u001b[0m \u001b[0mprint\u001b[0m\u001b[0;34m(\u001b[0m\u001b[0mabc\u001b[0m\u001b[0;34m(\u001b[0m\u001b[0mx\u001b[0m\u001b[0;34m=\u001b[0m\u001b[0;36m7\u001b[0m\u001b[0;34m,\u001b[0m \u001b[0my\u001b[0m\u001b[0;34m=\u001b[0m\u001b[0;36m20\u001b[0m\u001b[0;34m,\u001b[0m \u001b[0mz\u001b[0m\u001b[0;34m=\u001b[0m\u001b[0;36m30\u001b[0m\u001b[0;34m)\u001b[0m\u001b[0;34m)\u001b[0m\u001b[0;34m\u001b[0m\u001b[0;34m\u001b[0m\u001b[0m\n\u001b[1;32m     12\u001b[0m \u001b[0;34m\u001b[0m\u001b[0m\n\u001b[0;32m---> 13\u001b[0;31m \u001b[0mprint\u001b[0m\u001b[0;34m(\u001b[0m\u001b[0mabc\u001b[0m\u001b[0;34m(\u001b[0m\u001b[0;34m**\u001b[0m\u001b[0md\u001b[0m\u001b[0;34m)\u001b[0m\u001b[0;34m)\u001b[0m\u001b[0;34m\u001b[0m\u001b[0;34m\u001b[0m\u001b[0m\n\u001b[0m",
            "\u001b[0;31mTypeError\u001b[0m: abc() got an unexpected keyword argument 'e'"
          ]
        }
      ]
    },
    {
      "cell_type": "markdown",
      "source": [
        "**Unlimited argument function**"
      ],
      "metadata": {
        "id": "f9mkho3BshbN"
      }
    },
    {
      "cell_type": "code",
      "source": [
        "def my_sum(*nums):\n",
        "  total=0\n",
        "  for n in nums:\n",
        "    total+=n\n",
        "  return total\n",
        "\n",
        "my_sum(1,2,3,4,5,6,7,8)"
      ],
      "metadata": {
        "colab": {
          "base_uri": "https://localhost:8080/"
        },
        "id": "HK_24c0VtGVS",
        "outputId": "76a8b2eb-ee8c-4018-a795-dac11d2fa385"
      },
      "execution_count": null,
      "outputs": [
        {
          "output_type": "execute_result",
          "data": {
            "text/plain": [
              "36"
            ]
          },
          "metadata": {},
          "execution_count": 8
        }
      ]
    },
    {
      "cell_type": "code",
      "source": [
        "l1=[1,2,3,4,5,6,7,8]\n",
        "my_sum(*l1)"
      ],
      "metadata": {
        "colab": {
          "base_uri": "https://localhost:8080/"
        },
        "id": "qAsfweWyuMJy",
        "outputId": "0f98bb7d-1971-4083-d0e5-6d30c6cf7118"
      },
      "execution_count": null,
      "outputs": [
        {
          "output_type": "execute_result",
          "data": {
            "text/plain": [
              "36"
            ]
          },
          "metadata": {},
          "execution_count": 9
        }
      ]
    },
    {
      "cell_type": "code",
      "source": [
        "def abc(**data):\n",
        "\n",
        "  #return list(data.items())\n",
        "\n",
        "abc(x=20,y=40,e=10,end=70)"
      ],
      "metadata": {
        "colab": {
          "base_uri": "https://localhost:8080/"
        },
        "id": "c2V9c5MCyukk",
        "outputId": "285ae962-bc87-42f4-d622-a28fb6195008"
      },
      "execution_count": null,
      "outputs": [
        {
          "output_type": "execute_result",
          "data": {
            "text/plain": [
              "[('x', 20), ('y', 40), ('e', 10), ('end', 70)]"
            ]
          },
          "metadata": {},
          "execution_count": 16
        }
      ]
    },
    {
      "cell_type": "code",
      "source": [
        "data = {\"Name\":\"Qasim\",\n",
        "       \"Father\":\"ASlam\",\n",
        "       \"Course\":\"AI\"}\n",
        "\n",
        "abc(**data)"
      ],
      "metadata": {
        "colab": {
          "base_uri": "https://localhost:8080/"
        },
        "id": "8qEfQknlzpxM",
        "outputId": "bedf4cb6-d154-4f6e-ccba-5e15272d20b0"
      },
      "execution_count": null,
      "outputs": [
        {
          "output_type": "execute_result",
          "data": {
            "text/plain": [
              "[('Name', 'Qasim'), ('Father', 'ASlam'), ('Course', 'AI')]"
            ]
          },
          "metadata": {},
          "execution_count": 24
        }
      ]
    },
    {
      "cell_type": "markdown",
      "source": [
        "#Functions practice from Code with Harry"
      ],
      "metadata": {
        "id": "8IVHNLYe3uzO"
      }
    },
    {
      "cell_type": "code",
      "source": [
        "def calculategmean(a,b):\n",
        "  gmean=(a*b)/(a+b)\n",
        "  print(gmean)\n",
        "\n",
        "def isgreater(a,b):\n",
        "  if a>b:\n",
        "    print(\"a is greater\")\n",
        "  else:\n",
        "    print(\"b is greater\")\n",
        "\n",
        "def islesser(a,b):\n",
        "  pass\n",
        "\n",
        "\n",
        "a=9\n",
        "b=10\n",
        "#gmean1=(a*b)/(a+b)\n",
        "#print(gmean1)\n",
        "calculategmean(a,b)\n",
        "isgreater(a,b)\n",
        "\n",
        "\n",
        "c=22\n",
        "d=10\n",
        "\n",
        "calculategmean(c,d)\n",
        "isgreater(c,d)\n"
      ],
      "metadata": {
        "colab": {
          "base_uri": "https://localhost:8080/"
        },
        "id": "HDvjN0Dn2Pja",
        "outputId": "ac97b81c-2993-428d-e8eb-25aee47ef0dd"
      },
      "execution_count": null,
      "outputs": [
        {
          "output_type": "stream",
          "name": "stdout",
          "text": [
            "4.7368421052631575\n",
            "b is greater\n",
            "6.875\n",
            "a is greater\n"
          ]
        }
      ]
    },
    {
      "cell_type": "markdown",
      "source": [
        "**Functions arguments and return statement**"
      ],
      "metadata": {
        "id": "dlXM_MAVAJza"
      }
    },
    {
      "cell_type": "code",
      "source": [
        "def average(a,b):\n",
        "  print(\"the average is\",(a+b)/2)\n",
        "\n",
        "average(6,10)"
      ],
      "metadata": {
        "colab": {
          "base_uri": "https://localhost:8080/"
        },
        "id": "wrHAi_OMADZi",
        "outputId": "a8448153-a33e-4dab-be4c-d31fa540b135"
      },
      "execution_count": null,
      "outputs": [
        {
          "output_type": "stream",
          "name": "stdout",
          "text": [
            "the average is 8.0\n"
          ]
        }
      ]
    },
    {
      "cell_type": "markdown",
      "source": [
        "**There are 4 types of arguments**\n",
        "\n",
        "\n",
        "\n",
        "*   *Default*\n",
        "*   *Keyword*\n",
        "*   *variable length*\n",
        "*   *required argument*\n",
        "\n",
        "\n",
        "\n",
        "\n",
        "\n",
        "\n"
      ],
      "metadata": {
        "id": "FKPFODWWAswd"
      }
    },
    {
      "cell_type": "markdown",
      "source": [
        "**Default Argument**"
      ],
      "metadata": {
        "id": "55PUwd09BWnX"
      }
    },
    {
      "cell_type": "code",
      "source": [
        "def average(a=9,b=1):\n",
        "  print(\"the average is\",(a+b)/2)\n",
        "\n",
        "average()"
      ],
      "metadata": {
        "colab": {
          "base_uri": "https://localhost:8080/"
        },
        "id": "rUtbpNlIBBpq",
        "outputId": "95b1fa76-16f8-4a75-e9d8-64a0c1bc2afe"
      },
      "execution_count": null,
      "outputs": [
        {
          "output_type": "stream",
          "name": "stdout",
          "text": [
            "the average is 5.0\n"
          ]
        }
      ]
    },
    {
      "cell_type": "code",
      "source": [
        "def average(a=9,b=1):    #a & b are required arguments\n",
        "  print(\"the average is\",(a+b)/2)\n",
        "\n",
        "#but if we give values while function calling then it will ignore the values given in argument before\n",
        "average(1,2)"
      ],
      "metadata": {
        "colab": {
          "base_uri": "https://localhost:8080/"
        },
        "id": "y7YSL2buCH_W",
        "outputId": "a4e8cfe8-8b62-4df1-e6e4-d3ac98fd23d4"
      },
      "execution_count": null,
      "outputs": [
        {
          "output_type": "stream",
          "name": "stdout",
          "text": [
            "the average is 1.5\n"
          ]
        }
      ]
    },
    {
      "cell_type": "code",
      "source": [
        "def average(a=9,b=1):    #a & b are required arguments\n",
        "  print(\"the average is\",(a+b)/2)\n",
        "\n",
        "#but if we give values while function calling then it will ignore the values given in argument before\n",
        "average(b=2)"
      ],
      "metadata": {
        "colab": {
          "base_uri": "https://localhost:8080/"
        },
        "id": "By3RbVaLClCV",
        "outputId": "d213c812-0ef8-42d1-c225-67e75eea7a49"
      },
      "execution_count": null,
      "outputs": [
        {
          "output_type": "stream",
          "name": "stdout",
          "text": [
            "the average is 5.5\n"
          ]
        }
      ]
    },
    {
      "cell_type": "code",
      "source": [
        "def name(fname,mname=\"john\",lname=\"watson\"):\n",
        "  print(\"Helo\",fname,mname,lname)\n",
        "\n",
        "name(\"ammy\")\n",
        "name(\"ammy\",\"raheel\")\n",
        "name(\"ammy\",\"raheel\",\"faizan\")\n"
      ],
      "metadata": {
        "colab": {
          "base_uri": "https://localhost:8080/"
        },
        "id": "aNlZCsosC1ud",
        "outputId": "2ce97823-ed33-4f64-953c-b58c386593e9"
      },
      "execution_count": null,
      "outputs": [
        {
          "output_type": "stream",
          "name": "stdout",
          "text": [
            "Helo ammy john watson\n",
            "Helo ammy raheel watson\n",
            "Helo ammy raheel faizan\n"
          ]
        }
      ]
    },
    {
      "cell_type": "markdown",
      "source": [
        "**Keyword Argument**"
      ],
      "metadata": {
        "id": "7_fghvvoEWKE"
      }
    },
    {
      "cell_type": "code",
      "source": [
        "def average(a=9,b=1):\n",
        "  print(\"the average is\",(a+b)/2)\n",
        "\n",
        "average(b=8,a=4) #in keyword arguments we can reverse the order or can manipulate the values by giving its key same as used above"
      ],
      "metadata": {
        "colab": {
          "base_uri": "https://localhost:8080/"
        },
        "id": "CpCD_358Dyau",
        "outputId": "805c5a39-2947-4834-d85b-196aab49ebd5"
      },
      "execution_count": null,
      "outputs": [
        {
          "output_type": "stream",
          "name": "stdout",
          "text": [
            "the average is 6.0\n"
          ]
        }
      ]
    },
    {
      "cell_type": "code",
      "source": [
        "def name(fname,mname,lname=\"watson\"):\n",
        "  print(\"Helo\",fname,mname,lname)\n",
        "\n",
        "name(fname=\"nadeem\",mname=\"raheel\",lname=\"joseph\")"
      ],
      "metadata": {
        "colab": {
          "base_uri": "https://localhost:8080/"
        },
        "id": "Lcf4-208G5ZK",
        "outputId": "0016ea6e-5e44-4a64-ce3b-b530e3eeaa67"
      },
      "execution_count": null,
      "outputs": [
        {
          "output_type": "stream",
          "name": "stdout",
          "text": [
            "Helo nadeem raheel joseph\n"
          ]
        }
      ]
    },
    {
      "cell_type": "markdown",
      "source": [
        "**Required Arguments**"
      ],
      "metadata": {
        "id": "2GEBIfooFxJE"
      }
    },
    {
      "cell_type": "code",
      "source": [
        "def average(a,b,c=10):\n",
        "  print(\"the average is\",(a+b+c)/2)\n",
        "\n",
        "average(2,3)  #we must have to give values of variable that are not given above\n",
        "               # optional:if we give value of like c it will take the new value\n",
        "\n"
      ],
      "metadata": {
        "colab": {
          "base_uri": "https://localhost:8080/"
        },
        "id": "a3zhbZCWF0oq",
        "outputId": "b91f3ec3-fb15-46c1-b50e-e14a78177a84"
      },
      "execution_count": null,
      "outputs": [
        {
          "output_type": "stream",
          "name": "stdout",
          "text": [
            "the average is 7.5\n"
          ]
        }
      ]
    },
    {
      "cell_type": "code",
      "source": [
        "def name(fname,mname,lname=\"watson\"):\n",
        "  print(\"Helo\",fname,mname,lname)\n",
        "\n",
        "name(\"ammy\",\"raheel\")"
      ],
      "metadata": {
        "colab": {
          "base_uri": "https://localhost:8080/"
        },
        "id": "Z_YRiinkGrba",
        "outputId": "4237d70c-9951-4431-de7d-84bd1a8f7ff5"
      },
      "execution_count": null,
      "outputs": [
        {
          "output_type": "stream",
          "name": "stdout",
          "text": [
            "Helo ammy raheel watson\n"
          ]
        }
      ]
    },
    {
      "cell_type": "markdown",
      "source": [
        "**Variable Length Argument**"
      ],
      "metadata": {
        "id": "i6md2BEVIdMw"
      }
    },
    {
      "cell_type": "code",
      "source": [
        "#if we have to find average of lots of numbers\n",
        "def avg(*numbers):\n",
        "  print(type(numbers))\n",
        "  sum=0\n",
        "  for i in numbers:\n",
        "    sum=sum+i\n",
        "  print(\"Average is\",sum/len(numbers))\n",
        "\n",
        "avg(5,6,10,8,9,6,8,9)\n",
        "\n"
      ],
      "metadata": {
        "colab": {
          "base_uri": "https://localhost:8080/"
        },
        "id": "nObesAIkIg-e",
        "outputId": "3f366110-efc7-4746-937b-016121470801"
      },
      "execution_count": null,
      "outputs": [
        {
          "output_type": "stream",
          "name": "stdout",
          "text": [
            "<class 'tuple'>\n",
            "Average is 7.625\n"
          ]
        }
      ]
    },
    {
      "cell_type": "code",
      "source": [
        "def name(**name): #if we have to take our argument as dictionary\n",
        "  print(type(name))\n",
        "  print(\"Hello\",name[\"fname\"],name[\"mname\"],name[\"lname\"])\n",
        "\n",
        "name(mname=\"nadeem\",lname=\"joseph\",fname=\"Raheel\")"
      ],
      "metadata": {
        "colab": {
          "base_uri": "https://localhost:8080/"
        },
        "id": "2zdguPqChtll",
        "outputId": "7715ad27-4fe2-4829-bec0-21b5f88238d9"
      },
      "execution_count": null,
      "outputs": [
        {
          "output_type": "stream",
          "name": "stdout",
          "text": [
            "<class 'dict'>\n",
            "Hello Raheel nadeem joseph\n"
          ]
        }
      ]
    },
    {
      "cell_type": "markdown",
      "source": [
        "**Return Function**"
      ],
      "metadata": {
        "id": "SDTTZ4MzAziP"
      }
    },
    {
      "cell_type": "code",
      "source": [
        "def avg(*numbers):\n",
        "  sum=0\n",
        "  for i in numbers:\n",
        "    sum=sum+i\n",
        "  return (sum/len(numbers))\n",
        "\n",
        "c=avg(5,6,10,8)\n",
        "print(c)"
      ],
      "metadata": {
        "colab": {
          "base_uri": "https://localhost:8080/"
        },
        "id": "XV-BQ7nJAzB7",
        "outputId": "3e8800a3-3c96-4d6f-f306-214bab132184"
      },
      "execution_count": 2,
      "outputs": [
        {
          "output_type": "stream",
          "name": "stdout",
          "text": [
            "7.25\n"
          ]
        }
      ]
    },
    {
      "cell_type": "markdown",
      "source": [
        "**Lambda Function**\n",
        "usefull to write anonymous function"
      ],
      "metadata": {
        "id": "7XJvkXwWCN4R"
      }
    },
    {
      "cell_type": "code",
      "source": [
        "def double(x):\n",
        "  return x*2\n",
        "\n",
        "double(5)\n",
        "\n",
        "#OR\n",
        "\n",
        "double=lambda x:x*2\n",
        "print(double(5))\n",
        "\n",
        "double(5)\n",
        "\n",
        "\n"
      ],
      "metadata": {
        "colab": {
          "base_uri": "https://localhost:8080/"
        },
        "id": "mM2122EIBMtk",
        "outputId": "41beafad-8989-4ed4-9204-a24f66879e2c"
      },
      "execution_count": 6,
      "outputs": [
        {
          "output_type": "stream",
          "name": "stdout",
          "text": [
            "10\n"
          ]
        },
        {
          "output_type": "execute_result",
          "data": {
            "text/plain": [
              "10"
            ]
          },
          "metadata": {},
          "execution_count": 6
        }
      ]
    },
    {
      "cell_type": "code",
      "source": [
        "cube=lambda x:x*x*x\n",
        "print(cube(5))"
      ],
      "metadata": {
        "colab": {
          "base_uri": "https://localhost:8080/"
        },
        "id": "OB4VLCxxFUwI",
        "outputId": "c25122e5-9528-467b-caba-c7881688810a"
      },
      "execution_count": 7,
      "outputs": [
        {
          "output_type": "stream",
          "name": "stdout",
          "text": [
            "125\n"
          ]
        }
      ]
    },
    {
      "cell_type": "markdown",
      "source": [
        "lambda can also takes more than one value"
      ],
      "metadata": {
        "id": "GsruXu20GkVD"
      }
    },
    {
      "cell_type": "code",
      "source": [
        "average=lambda x,y:(x+y)/2\n",
        "print(average(3,4))"
      ],
      "metadata": {
        "colab": {
          "base_uri": "https://localhost:8080/"
        },
        "id": "jjxE_M1gGGju",
        "outputId": "174e64c2-ddcf-4655-ce6b-8553bf5303f7"
      },
      "execution_count": 8,
      "outputs": [
        {
          "output_type": "stream",
          "name": "stdout",
          "text": [
            "3.5\n"
          ]
        }
      ]
    },
    {
      "cell_type": "markdown",
      "source": [
        "Passing function as an argument"
      ],
      "metadata": {
        "id": "yXzZ-AkeHr-F"
      }
    },
    {
      "cell_type": "code",
      "source": [
        "def app(fx):\n",
        "  return 6+fx\n",
        "\n",
        "cube=lambda x:x*x*x\n",
        "print(cube(5))\n",
        "print(app(cube(5)))\n"
      ],
      "metadata": {
        "colab": {
          "base_uri": "https://localhost:8080/"
        },
        "id": "V7UiHTU7G3z_",
        "outputId": "31ce2d75-96c4-4c7f-e6a3-48e53ac192d0"
      },
      "execution_count": 19,
      "outputs": [
        {
          "output_type": "stream",
          "name": "stdout",
          "text": [
            "125\n",
            "131\n"
          ]
        }
      ]
    },
    {
      "cell_type": "code",
      "source": [
        "data = [[1,'Z',\"E\"],\n",
        "       [3,'X',\"F\"],\n",
        "       [2,\"Y\",\"G\"]]\n",
        "\n",
        "print(sorted(data))"
      ],
      "metadata": {
        "colab": {
          "base_uri": "https://localhost:8080/"
        },
        "id": "LGWCvo8MKNzi",
        "outputId": "88aa7647-8892-469f-9604-0c51169eede9"
      },
      "execution_count": 20,
      "outputs": [
        {
          "output_type": "stream",
          "name": "stdout",
          "text": [
            "[[1, 'Z', 'E'], [2, 'Y', 'G'], [3, 'X', 'F']]\n"
          ]
        }
      ]
    },
    {
      "cell_type": "code",
      "source": [
        "data = [[1,'Z',\"E\"],\n",
        "       [3,'X',\"F\"],\n",
        "       [2,\"Y\",\"G\"]]\n",
        "\n",
        "print(sorted(data,key=lambda x:x[1]))"
      ],
      "metadata": {
        "colab": {
          "base_uri": "https://localhost:8080/"
        },
        "id": "ODceGS4iQT3x",
        "outputId": "08152451-ab32-4798-dbeb-58a4701ca51e"
      },
      "execution_count": 26,
      "outputs": [
        {
          "output_type": "stream",
          "name": "stdout",
          "text": [
            "[[3, 'X', 'F'], [2, 'Y', 'G'], [1, 'Z', 'E']]\n"
          ]
        }
      ]
    },
    {
      "cell_type": "code",
      "source": [],
      "metadata": {
        "id": "eiel3U6SQelJ"
      },
      "execution_count": null,
      "outputs": []
    }
  ]
}